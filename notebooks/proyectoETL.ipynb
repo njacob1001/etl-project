{
  "cells": [
    {
      "cell_type": "markdown",
      "metadata": {
        "id": "mm9UkCxeZG2K"
      },
      "source": [
        "###Proceso de ETL Para los precios de los medicamentos"
      ]
    },
    {
      "cell_type": "markdown",
      "metadata": {},
      "source": [
        "NOTA: Ejecutar el sigueinte codigo solo si se esta en el entorno de google Colab"
      ]
    },
    {
      "cell_type": "code",
      "execution_count": null,
      "metadata": {},
      "outputs": [],
      "source": [
        "!git clone https://github.com/njacob1001/etl-project.git\n",
        "# Cambiar al directorio del proyecto\n",
        "%cd 'etl-project'"
      ]
    },
    {
      "cell_type": "markdown",
      "metadata": {
        "id": "my1CdrjAYuOC"
      },
      "source": [
        "Este bloque de código configura el sistema de logs para registrar las etapas clave del proceso ETL (Extracción, Transformación y Carga). Primero, se asegura de que exista una carpeta para los registros de logs. Luego, se configura el archivo de log donde se almacenarán los mensajes.\n",
        "\n",
        "El propósito de este código es proporcionar visibilidad en cada etapa del pipeline y permitir el seguimiento de cualquier error o progreso dentro del proceso de carga y procesamiento de datos."
      ]
    },
    {
      "cell_type": "code",
      "execution_count": null,
      "metadata": {
        "id": "dymvk880YvFR"
      },
      "outputs": [],
      "source": [
        "import os\n",
        "import pandas as pd\n",
        "\n",
        "# Crear carpeta de logs si no existe\n",
        "log_dir = os.path.join(os.getcwd(), 'logs')\n",
        "os.makedirs(log_dir, exist_ok=True)  # Crear la carpeta si no existe\n",
        "\n",
        "# Ruta al archivo de log\n",
        "log_file_path = os.path.join(log_dir, 'etl_logs.txt')\n",
        "\n",
        "# Método alternativo para escribir en el log\n",
        "def write_to_log(message):\n",
        "    with open(log_file_path, 'a') as file:\n",
        "        file.write(message + \"\\n\")\n",
        "\n",
        "write_to_log(\"Iniciando el proceso ETL.\")\n"
      ]
    },
    {
      "cell_type": "markdown",
      "metadata": {
        "id": "8HmxWk-DYt3T"
      },
      "source": [
        "###Extraccion de los datos"
      ]
    },
    {
      "cell_type": "markdown",
      "metadata": {
        "id": "Z2E65pm6bNzZ"
      },
      "source": [
        "Este bloque de código se encarga de cargar tres datasets en formato CSV. Los archivos contienen información sobre los precios de los medicamentos, los cuales se leen utilizando la función **`read_csv`** de **pandas**. A continuación, se visualizan las primeras filas de cada dataset para revisar su estructura y asegurar que los datos se hayan cargado correctamente.\n",
        "\n",
        "- **Primer Dataset**: Carga el archivo **1.csv**.\n",
        "- **Segundo Dataset**: Carga el archivo **2.csv**.\n",
        "- **Tercer Dataset**: Carga el archivo **15.csv**.\n"
      ]
    },
    {
      "cell_type": "code",
      "execution_count": 20,
      "metadata": {
        "colab": {
          "base_uri": "https://localhost:8080/"
        },
        "id": "70F1U4uXYped",
        "outputId": "d4d77105-cabc-4221-f272-2031483f6dd3"
      },
      "outputs": [
        {
          "name": "stdout",
          "output_type": "stream",
          "text": [
            "  principio_activo unidad_de_dispensacion              concentracion  \\\n",
            "0        Midazolam                Ampolla            Midazolam 15 mg   \n",
            "1  Acido Valproico                Tableta  Divalproato Sodico 500 mg   \n",
            "2  Acido Valproico                Tableta  Divalproato Sodico 500 mg   \n",
            "3       Fluoxetina                Capsula           Fluoxetina 20 mg   \n",
            "4   Proximetacaina                 Frasco        Proximetacaina 5 mg   \n",
            "\n",
            "  unidad_base nombre_comercial fabricante  precio_por_tableta factoresprecio  \\\n",
            "0          ml         Dormicum  Siegfried        11199.800000           Alto   \n",
            "1          mg          Valcote  Lafrancol         3752.866667          Medio   \n",
            "2          mg          Valcote  Lafrancol         1777.266522          Medio   \n",
            "3          mg       Fluoxetina     Genfar          329.295281          Medio   \n",
            "4          ml          Alcaine      Alcon        64184.745760          Medio   \n",
            "\n",
            "   numerofactor  \n",
            "0             3  \n",
            "1             2  \n",
            "2             2  \n",
            "3             2  \n",
            "4             2  \n",
            "   Expediente_INVIMA principio_activo              concentracion unidad_base  \\\n",
            "0             103795        Midazolam            Midazolam 15 mg          ml   \n",
            "1             104739  Acido Valproico  Divalproato Sodico 500 mg          mg   \n",
            "2             104739  Acido Valproico  Divalproato Sodico 500 mg          mg   \n",
            "3              10815       Fluoxetina           Fluoxetina 20 mg          mg   \n",
            "4             111057   Proximetacaina        Proximetacaina 5 mg          ml   \n",
            "\n",
            "  unidad_de_dispensacion nombre_comercial fabricante  \\\n",
            "0                Ampolla         Dormicum  Siegfried   \n",
            "1                Tableta          Valcote  Lafrancol   \n",
            "2                Tableta          Valcote  Lafrancol   \n",
            "3                Capsula       Fluoxetina     Genfar   \n",
            "4                 Frasco          Alcaine      Alcon   \n",
            "\n",
            "                                         medicamento          canal  \\\n",
            "0  Dormicum (Siegfried) - Ampolla 3 ml - Cada 3 m...  Institucional   \n",
            "1  Valcote (Lafrancol) - Cada Tableta contiene: D...      Comercial   \n",
            "2  Valcote (Lafrancol) - Cada Tableta contiene: D...  Institucional   \n",
            "3  Fluoxetina (Genfar) - Cada Capsula contiene: F...      Comercial   \n",
            "4  Alcaine (Alcon) - Frasco 15 ml - Cada 1 ml con...      Comercial   \n",
            "\n",
            "   precio_por_tableta factoresprecio  numerofactor  \n",
            "0        11199.800000           Alto             3  \n",
            "1         3752.866667          Medio             2  \n",
            "2         1777.266522          Medio             2  \n",
            "3          329.295281          Medio             2  \n",
            "4        64184.745760          Medio             2  \n",
            "  principio_activo unidad_de_dispensacion              concentracion  \\\n",
            "0        Midazolam                Ampolla            Midazolam 15 mg   \n",
            "1  Acido Valproico                Tableta  Divalproato Sodico 500 mg   \n",
            "2  Acido Valproico                Tableta  Divalproato Sodico 500 mg   \n",
            "3       Fluoxetina                Capsula           Fluoxetina 20 mg   \n",
            "4   Proximetacaina                 Frasco        Proximetacaina 5 mg   \n",
            "\n",
            "  unidad_base nombre_comercial fabricante  precio_por_tableta factoresprecio  \\\n",
            "0          ml         Dormicum  Siegfried        11199.800000           Alto   \n",
            "1          mg          Valcote  Lafrancol         3752.866667          Medio   \n",
            "2          mg          Valcote  Lafrancol         1777.266522          Medio   \n",
            "3          mg       Fluoxetina     Genfar          329.295281          Medio   \n",
            "4          ml          Alcaine      Alcon        64184.745760          Medio   \n",
            "\n",
            "   numerofactor  \n",
            "0             3  \n",
            "1             2  \n",
            "2             2  \n",
            "3             2  \n",
            "4             2  \n",
            "Evento registrado correctamente.\n",
            "Archivos en logs: ['etl_logs.txt']\n",
            "Contenido del log:\n",
            "Iniciando el proceso ETL\n",
            "\n"
          ]
        }
      ],
      "source": [
        "# Registrar inicio del proceso ETL\n",
        "write_to_log(\"Iniciando el proceso de carga de los datasets.\")\n",
        "src_dir = os.path.join(os.getcwd(), 'data')\n",
        "\n",
        "# Cargar los tres datasets\n",
        "try:\n",
        "    df1 = pd.read_csv(os.path.join(src_dir, '1.csv'))  # Primer dataset\n",
        "    write_to_log(\"Dataset 1 cargado correctamente.\")\n",
        "except Exception as e:\n",
        "    write_to_log(f\"Error al cargar el Dataset 1: {e}\")\n",
        "\n",
        "try:\n",
        "    df2 = pd.read_csv(os.path.join(src_dir, '2.csv'))  # Segundo dataset\n",
        "    write_to_log(\"Dataset 2 cargado correctamente.\")\n",
        "except Exception as e:\n",
        "    write_to_log(f\"Error al cargar el Dataset 2: {e}\")\n",
        "\n",
        "try:\n",
        "    df3 = pd.read_csv(os.path.join(src_dir, '15.csv'))  # Tercer dataset\n",
        "    write_to_log(\"Dataset 3 cargado correctamente.\")\n",
        "except Exception as e:\n",
        "    write_to_log(f\"Error al cargar el Dataset 3: {e}\")\n",
        "\n",
        "# Ver las primeras filas de cada dataset para entender su estructura\n",
        "write_to_log(\"Visualizando las primeras filas de los datasets.\")\n",
        "print(df1.head())  # Muestra las primeras filas del primer dataset\n",
        "write_to_log(\"Primeras filas del Dataset 1 visualizadas.\")\n",
        "\n",
        "print(\"________________________________\")\n",
        "print(df2.head())  # Muestra las primeras filas del segundo dataset\n",
        "write_to_log(\"Primeras filas del Dataset 2 visualizadas.\")\n",
        "\n",
        "print(\"________________________________\")\n",
        "print(df3.head())  # Muestra las primeras filas del tercer dataset\n",
        "write_to_log(\"Primeras filas del Dataset 3 visualizadas.\")\n",
        "\n"
      ]
    },
    {
      "cell_type": "markdown",
      "metadata": {
        "id": "QYy58-Wvadur"
      },
      "source": [
        "\n",
        "Este bloque de código se encarga de mostrar las columnas de los tres datasets cargados previamente en el pipeline ETL. Las columnas de cada dataset son importantes porque nos permiten entender cómo están estructurados los datos y verificar si contienen la información que esperamos.\n",
        "\n",
        "- **Dataset 1**: Se visualizan las columnas del primer dataset cargado (`df1`).\n",
        "- **Dataset 2**: Se visualizan las columnas del segundo dataset cargado (`df2`).\n",
        "- **Dataset 3**: Se visualizan las columnas del tercer dataset cargado (`df3`)."
      ]
    },
    {
      "cell_type": "code",
      "execution_count": 25,
      "metadata": {
        "colab": {
          "base_uri": "https://localhost:8080/"
        },
        "id": "rlWOFJTyajaT",
        "outputId": "a5f5c194-7e7b-4a8b-f161-2e38161748d1"
      },
      "outputs": [
        {
          "name": "stdout",
          "output_type": "stream",
          "text": [
            "_______________Datset 1_________________\n",
            "Index(['principio_activo', 'unidad_de_dispensacion', 'concentracion',\n",
            "       'unidad_base', 'nombre_comercial', 'fabricante', 'precio_por_tableta',\n",
            "       'factoresprecio', 'numerofactor'],\n",
            "      dtype='object')\n",
            "_______________Dataset 2________________\n",
            "Index(['Expediente_INVIMA', 'principio_activo', 'concentracion', 'unidad_base',\n",
            "       'unidad_de_dispensacion', 'nombre_comercial', 'fabricante',\n",
            "       'medicamento', 'canal', 'precio_por_tableta', 'factoresprecio',\n",
            "       'numerofactor'],\n",
            "      dtype='object')\n",
            "_______________Dataset 15_______________\n",
            "Index(['principio_activo', 'unidad_de_dispensacion', 'concentracion',\n",
            "       'unidad_base', 'nombre_comercial', 'fabricante', 'precio_por_tableta',\n",
            "       'factoresprecio', 'numerofactor'],\n",
            "      dtype='object')\n"
          ]
        }
      ],
      "source": [
        "# Ver las columnas de cada dataset\n",
        "# Aquí se visualizan las columnas de los tres datasets cargados para entender su estructura.\n",
        "\n",
        "# Agregar un registro al log\n",
        "write_to_log(\"Visualizando las columnas del Dataset 1.\")\n",
        "print(\"_______________Datset 1_________________\")\n",
        "print(df1.columns)\n",
        "\n",
        "# Agregar un registro al log\n",
        "write_to_log(\"Visualizando las columnas del Dataset 2.\")\n",
        "print(\"_______________Dataset 2________________\")\n",
        "print(df2.columns)\n",
        "\n",
        "# Agregar un registro al log\n",
        "write_to_log(\"Visualizando las columnas del Dataset 3.\")\n",
        "print(\"_______________Dataset 15_______________\")\n",
        "print(df3.columns)\n"
      ]
    },
    {
      "cell_type": "markdown",
      "metadata": {
        "id": "1Zz9k0fHgToi"
      },
      "source": [
        "Este bloque de código renombra las columnas de tres datasets para asegurarse de que los nombres de las columnas sean consistentes a lo largo del pipeline ETL.\n",
        "\n",
        "- **Dataset 1**: Se renombrarán las columnas de acuerdo con un formato consistente.\n",
        "- **Dataset 2**: Se renombrarán las columnas para que coincidan con las del primer dataset, con la adición de algunas columnas adicionales como **`medicamento`** y **`canal`**.\n",
        "- **Dataset 15**: Se renombrarán las columnas de manera similar a los otros datasets.\n"
      ]
    },
    {
      "cell_type": "code",
      "execution_count": 26,
      "metadata": {
        "colab": {
          "base_uri": "https://localhost:8080/"
        },
        "id": "033tSgzJgb1R",
        "outputId": "cf425a11-24f0-4a4e-f3b7-8a412dadacf2"
      },
      "outputs": [
        {
          "name": "stdout",
          "output_type": "stream",
          "text": [
            "Dataset 1 columnas después de renombrar:  Index(['principio_activo', 'unidad_de_dispensacion', 'concentracion',\n",
            "       'unidad_base', 'nombre_comercial', 'fabricante', 'precio_por_tableta',\n",
            "       'factoresprecio', 'numerofactor'],\n",
            "      dtype='object')\n",
            "Dataset 2 columnas después de renombrar:  Index(['Expediente_INVIMA', 'principio_activo', 'concentracion', 'unidad_base',\n",
            "       'unidad_de_dispensacion', 'nombre_comercial', 'fabricante',\n",
            "       'medicamento', 'canal', 'precio_por_tableta', 'factoresprecio',\n",
            "       'numerofactor'],\n",
            "      dtype='object')\n",
            "Dataset 15 columnas después de renombrar:  Index(['principio_activo', 'unidad_de_dispensacion', 'concentracion',\n",
            "       'unidad_base', 'nombre_comercial', 'fabricante', 'precio_por_tableta',\n",
            "       'factoresprecio', 'numerofactor'],\n",
            "      dtype='object')\n"
          ]
        }
      ],
      "source": [
        "# Renombrar columnas en Dataset 1\n",
        "# Aquí se renombrarán las columnas del primer dataset para asegurar que tengan nombres consistentes.\n",
        "\n",
        "write_to_log(\"Renombrando columnas en el Dataset 1.\")\n",
        "df1.rename(columns={\n",
        "    'principio_activo': 'principio_activo',\n",
        "    'unidad_de_dispensacion': 'unidad_de_dispensacion',\n",
        "    'concentracion': 'concentracion',\n",
        "    'unidad_base': 'unidad_base',\n",
        "    'nombre_comercial': 'nombre_comercial',\n",
        "    'fabricante': 'fabricante',\n",
        "    'precio_por_tableta': 'precio_por_tableta',\n",
        "    'factoresprecio': 'factoresprecio',\n",
        "    'numerofactor': 'numerofactor'\n",
        "}, inplace=True)\n",
        "\n",
        "# Renombrar columnas en Dataset 2\n",
        "# Aseguramos que las columnas en el segundo dataset también tengan los nombres consistentes con el primero.\n",
        "\n",
        "write_to_log(\"Renombrando columnas en el Dataset 2.\")\n",
        "df2.rename(columns={\n",
        "    'principio_activo': 'principio_activo',\n",
        "    'unidad_de_dispensacion': 'unidad_de_dispensacion',\n",
        "    'concentracion': 'concentracion',\n",
        "    'unidad_base': 'unidad_base',\n",
        "    'nombre_comercial': 'nombre_comercial',\n",
        "    'fabricante': 'fabricante',\n",
        "    'precio_por_tableta': 'precio_por_tableta',\n",
        "    'factoresprecio': 'factoresprecio',\n",
        "    'numerofactor': 'numerofactor',\n",
        "    'medicamento': 'medicamento',  # Si necesitas crear una columna adicional, hacerlo\n",
        "    'canal': 'canal',\n",
        "    'Expediente_INVIMA': 'Expediente_INVIMA'\n",
        "}, inplace=True)\n",
        "\n",
        "# Renombrar columnas en Dataset 15\n",
        "# Finalmente, renombramos las columnas del tercer dataset (Dataset 15) para que tengan la misma estructura.\n",
        "\n",
        "write_to_log(\"Renombrando columnas en el Dataset 15.\")\n",
        "df3.rename(columns={\n",
        "    'principio_activo': 'principio_activo',\n",
        "    'unidad_de_dispensacion': 'unidad_de_dispensacion',\n",
        "    'concentracion': 'concentracion',\n",
        "    'unidad_base': 'unidad_base',\n",
        "    'nombre_comercial': 'nombre_comercial',\n",
        "    'fabricante': 'fabricante',\n",
        "    'precio_por_tableta': 'precio_por_tableta',\n",
        "    'factoresprecio': 'factoresprecio',\n",
        "    'numerofactor': 'numerofactor'\n",
        "}, inplace=True)\n",
        "\n",
        "# Verificar que los nombres de las columnas sean consistentes ahora\n",
        "# Se imprimen las columnas para asegurarnos de que todas se han renombrado correctamente.\n",
        "\n",
        "write_to_log(\"Verificando los nombres de las columnas después de renombrar.\")\n",
        "print(\"Dataset 1 columnas después de renombrar: \", df1.columns)\n",
        "print(\"Dataset 2 columnas después de renombrar: \", df2.columns)\n",
        "print(\"Dataset 15 columnas después de renombrar: \", df3.columns)\n",
        "\n"
      ]
    },
    {
      "cell_type": "markdown",
      "metadata": {
        "id": "JKZpGs8mhEDR"
      },
      "source": [
        "En este bloque de código, aseguramos que la columna **`precio_por_tableta`** en cada dataset se convierta al tipo de datos numérico correcto, es decir, tipo **`float`**. Este paso es importante porque, en ocasiones, los archivos CSV pueden contener valores no numéricos (como cadenas de texto o símbolos) que necesitan ser convertidos a **NaN** para evitar errores en análisis posteriores.\n",
        "\n",
        "Después de la conversión, se verifican los tipos de datos para asegurarse de que la conversión se ha realizado correctamente.\n",
        "\n"
      ]
    },
    {
      "cell_type": "code",
      "execution_count": 27,
      "metadata": {
        "colab": {
          "base_uri": "https://localhost:8080/"
        },
        "id": "4FqOFj0bhJoq",
        "outputId": "2dfa29cd-c302-4db4-9acc-92c341b6f4ed"
      },
      "outputs": [
        {
          "name": "stdout",
          "output_type": "stream",
          "text": [
            "principio_activo           object\n",
            "unidad_de_dispensacion     object\n",
            "concentracion              object\n",
            "unidad_base                object\n",
            "nombre_comercial           object\n",
            "fabricante                 object\n",
            "precio_por_tableta        float64\n",
            "factoresprecio             object\n",
            "numerofactor                int64\n",
            "dtype: object\n",
            "Expediente_INVIMA           int64\n",
            "principio_activo           object\n",
            "concentracion              object\n",
            "unidad_base                object\n",
            "unidad_de_dispensacion     object\n",
            "nombre_comercial           object\n",
            "fabricante                 object\n",
            "medicamento                object\n",
            "canal                      object\n",
            "precio_por_tableta        float64\n",
            "factoresprecio             object\n",
            "numerofactor                int64\n",
            "dtype: object\n",
            "principio_activo           object\n",
            "unidad_de_dispensacion     object\n",
            "concentracion              object\n",
            "unidad_base                object\n",
            "nombre_comercial           object\n",
            "fabricante                 object\n",
            "precio_por_tableta        float64\n",
            "factoresprecio             object\n",
            "numerofactor                int64\n",
            "dtype: object\n"
          ]
        }
      ],
      "source": [
        "# Asegurarse de que las columnas numéricas son del tipo correcto (float)\n",
        "# Convertimos las columnas 'precio_por_tableta' a tipo numérico, convirtiendo cualquier valor no numérico a NaN\n",
        "\n",
        "write_to_log(\"Asegurando que la columna 'precio_por_tableta' sea del tipo numérico en el Dataset 1.\")\n",
        "df1['precio_por_tableta'] = pd.to_numeric(df1['precio_por_tableta'], errors='coerce')\n",
        "\n",
        "write_to_log(\"Asegurando que la columna 'precio_por_tableta' sea del tipo numérico en el Dataset 2.\")\n",
        "df2['precio_por_tableta'] = pd.to_numeric(df2['precio_por_tableta'], errors='coerce')\n",
        "\n",
        "write_to_log(\"Asegurando que la columna 'precio_por_tableta' sea del tipo numérico en el Dataset 3.\")\n",
        "df3['precio_por_tableta'] = pd.to_numeric(df3['precio_por_tableta'], errors='coerce')\n",
        "\n",
        "# Verificar los tipos de datos después de la conversión\n",
        "# Mostramos los tipos de datos de las columnas para asegurarnos de que la conversión se ha realizado correctamente.\n",
        "\n",
        "write_to_log(\"Verificando los tipos de datos después de la conversión.\")\n",
        "print(df1.dtypes)\n",
        "print(df2.dtypes)\n",
        "print(df3.dtypes)\n",
        "\n"
      ]
    },
    {
      "cell_type": "markdown",
      "metadata": {
        "id": "l7r15kKgiDT5"
      },
      "source": [
        "En este bloque de código, verificamos si hay valores nulos (**NaN**) en las columnas de cada dataset después de haber realizado las conversiones a tipo numérico.\n",
        "\n"
      ]
    },
    {
      "cell_type": "code",
      "execution_count": 28,
      "metadata": {
        "colab": {
          "base_uri": "https://localhost:8080/"
        },
        "id": "HZ_Emm-8iHLp",
        "outputId": "25486662-7742-4329-a0d7-ed3022337a00"
      },
      "outputs": [
        {
          "name": "stdout",
          "output_type": "stream",
          "text": [
            "principio_activo          0\n",
            "unidad_de_dispensacion    0\n",
            "concentracion             0\n",
            "unidad_base               0\n",
            "nombre_comercial          0\n",
            "fabricante                0\n",
            "precio_por_tableta        0\n",
            "factoresprecio            0\n",
            "numerofactor              0\n",
            "dtype: int64\n",
            "Expediente_INVIMA         0\n",
            "principio_activo          0\n",
            "concentracion             0\n",
            "unidad_base               0\n",
            "unidad_de_dispensacion    0\n",
            "nombre_comercial          0\n",
            "fabricante                0\n",
            "medicamento               0\n",
            "canal                     0\n",
            "precio_por_tableta        0\n",
            "factoresprecio            0\n",
            "numerofactor              0\n",
            "dtype: int64\n",
            "principio_activo          0\n",
            "unidad_de_dispensacion    0\n",
            "concentracion             0\n",
            "unidad_base               0\n",
            "nombre_comercial          0\n",
            "fabricante                0\n",
            "precio_por_tableta        0\n",
            "factoresprecio            0\n",
            "numerofactor              0\n",
            "dtype: int64\n"
          ]
        }
      ],
      "source": [
        "# Verificar si hay valores nulos después de la conversión\n",
        "# Este bloque de código verifica si hay valores nulos en las columnas de cada dataset\n",
        "\n",
        "write_to_log(\"Verificando si hay valores nulos en el Dataset 1 después de la conversión.\")\n",
        "print(df1.isnull().sum())\n",
        "\n",
        "write_to_log(\"Verificando si hay valores nulos en el Dataset 2 después de la conversión.\")\n",
        "print(df2.isnull().sum())\n",
        "\n",
        "write_to_log(\"Verificando si hay valores nulos en el Dataset 3 después de la conversión.\")\n",
        "print(df3.isnull().sum())\n"
      ]
    },
    {
      "cell_type": "markdown",
      "metadata": {
        "id": "JvJqLWuijEtw"
      },
      "source": [
        "En este bloque de código, verificamos si existen filas duplicadas en cada uno de los tres datasets."
      ]
    },
    {
      "cell_type": "code",
      "execution_count": 29,
      "metadata": {
        "colab": {
          "base_uri": "https://localhost:8080/"
        },
        "id": "K0NlBNNHilo6",
        "outputId": "d4f1b5e1-9137-48e3-b6d4-3cfa97af5833"
      },
      "outputs": [
        {
          "name": "stdout",
          "output_type": "stream",
          "text": [
            "126\n",
            "0\n",
            "126\n"
          ]
        }
      ],
      "source": [
        "# Verificar duplicados exactos\n",
        "# Este bloque de código verifica si existen filas duplicadas en cada dataset.\n",
        "\n",
        "write_to_log(\"Verificando duplicados exactos en el Dataset 1.\")\n",
        "print(df1.duplicated().sum())\n",
        "\n",
        "write_to_log(\"Verificando duplicados exactos en el Dataset 2.\")\n",
        "print(df2.duplicated().sum())\n",
        "\n",
        "write_to_log(\"Verificando duplicados exactos en el Dataset 3.\")\n",
        "print(df3.duplicated().sum())\n",
        "\n"
      ]
    },
    {
      "cell_type": "markdown",
      "metadata": {
        "id": "LxZDBoHljJrQ"
      },
      "source": [
        "\n",
        "En este bloque de código, eliminamos las filas duplicadas en los datasets **`df1`** y **`df3`**, puesto que se identificaron 126 duplicados en cada uno de ellos.\n",
        "\n",
        "- **Dataset 1**: Se eliminan las filas duplicadas en el primer dataset utilizando **`drop_duplicates()`**.\n",
        "- **Dataset 3**: Se eliminan las filas duplicadas en el tercer dataset utilizando **`drop_duplicates()`**.\n",
        "\n",
        "Después de eliminar los duplicados, se verifica si la eliminación fue exitosa al contar nuevamente los duplicados. El número de duplicados restantes debería ser 0.\n"
      ]
    },
    {
      "cell_type": "code",
      "execution_count": 30,
      "metadata": {
        "colab": {
          "base_uri": "https://localhost:8080/"
        },
        "id": "BH71xo_SjNzB",
        "outputId": "65b3fe56-5c13-4da3-8e31-5ac75c37acbc"
      },
      "outputs": [
        {
          "name": "stdout",
          "output_type": "stream",
          "text": [
            "0\n",
            "0\n"
          ]
        }
      ],
      "source": [
        "# Eliminar duplicados en df1 y df3\n",
        "# Este bloque de código elimina las filas duplicadas de los datasets df1 y df3.\n",
        "\n",
        "write_to_log(\"Eliminando duplicados en el Dataset 1.\")\n",
        "df1 = df1.drop_duplicates()\n",
        "\n",
        "write_to_log(\"Eliminando duplicados en el Dataset 3.\")\n",
        "df3 = df3.drop_duplicates()\n",
        "\n",
        "# Verificar si se eliminaron los duplicados\n",
        "# Comprobamos que los duplicados hayan sido eliminados correctamente.\n",
        "\n",
        "write_to_log(\"Verificando si se eliminaron los duplicados en el Dataset 1.\")\n",
        "print(df1.duplicated().sum())  # Debe mostrar 0\n",
        "\n",
        "write_to_log(\"Verificando si se eliminaron los duplicados en el Dataset 3.\")\n",
        "print(df3.duplicated().sum())  # Debe mostrar 0\n"
      ]
    },
    {
      "cell_type": "markdown",
      "metadata": {
        "id": "IIuroKbrjZch"
      },
      "source": [
        "En este bloque de código, verificamos si existen duplicados exactos en cada uno de los tres datasets después de la eliminación de duplicados.\n"
      ]
    },
    {
      "cell_type": "code",
      "execution_count": 31,
      "metadata": {
        "colab": {
          "base_uri": "https://localhost:8080/"
        },
        "id": "T4MH0oPhjdpR",
        "outputId": "1bf48e8f-ff5f-473b-ee40-6369b4a96728"
      },
      "outputs": [
        {
          "name": "stdout",
          "output_type": "stream",
          "text": [
            "0\n",
            "0\n",
            "0\n"
          ]
        }
      ],
      "source": [
        "# Verificar duplicados exactos\n",
        "# Este bloque de código verifica si existen filas duplicadas en cada dataset después de eliminar duplicados previos.\n",
        "\n",
        "write_to_log(\"Verificando duplicados exactos en el Dataset 1 después de la eliminación.\")\n",
        "print(df1.duplicated().sum())\n",
        "\n",
        "write_to_log(\"Verificando duplicados exactos en el Dataset 2 después de la eliminación.\")\n",
        "print(df2.duplicated().sum())\n",
        "\n",
        "write_to_log(\"Verificando duplicados exactos en el Dataset 3 después de la eliminación.\")\n",
        "print(df3.duplicated().sum())\n"
      ]
    },
    {
      "cell_type": "markdown",
      "metadata": {
        "id": "NS0ePSrgCoLt"
      },
      "source": [
        "\n",
        "En este bloque de código, imprimimos la cantidad de registros (filas) en cada uno de los tres datasets.\n"
      ]
    },
    {
      "cell_type": "code",
      "execution_count": 32,
      "metadata": {
        "colab": {
          "base_uri": "https://localhost:8080/"
        },
        "id": "mfa933DACyND",
        "outputId": "73723a04-96f1-4f1d-876e-9c1ae30b84e7"
      },
      "outputs": [
        {
          "name": "stdout",
          "output_type": "stream",
          "text": [
            "Cantidad de registros en Dataset 1:  12408\n",
            "Cantidad de registros en Dataset 2:  12534\n",
            "Cantidad de registros en Dataset 15:  12408\n"
          ]
        }
      ],
      "source": [
        "# Imprimir la cantidad de registros (filas) de cada dataset\n",
        "# Este bloque de código imprime la cantidad de registros en cada uno de los tres datasets.\n",
        "\n",
        "write_to_log(\"Imprimiendo la cantidad de registros en el Dataset 1.\")\n",
        "print(\"Cantidad de registros en Dataset 1: \", df1.shape[0])\n",
        "\n",
        "write_to_log(\"Imprimiendo la cantidad de registros en el Dataset 2.\")\n",
        "print(\"Cantidad de registros en Dataset 2: \", df2.shape[0])\n",
        "\n",
        "write_to_log(\"Imprimiendo la cantidad de registros en el Dataset 15.\")\n",
        "print(\"Cantidad de registros en Dataset 15: \", df3.shape[0])\n",
        "\n"
      ]
    },
    {
      "cell_type": "markdown",
      "metadata": {
        "id": "RTMohRFMKhQA"
      },
      "source": [
        "En este bloque de código, verificamos si existen filas duplicadas en cada uno de los tres datasets basándonos en un conjunto específico de columnas clave. Esto es importante para asegurarnos de que los datos sean únicos y no contengan entradas repetidas que podrían distorsionar los resultados del análisis posterior.\n"
      ]
    },
    {
      "cell_type": "code",
      "execution_count": 33,
      "metadata": {
        "colab": {
          "base_uri": "https://localhost:8080/"
        },
        "id": "lLnMZ7w7KjvR",
        "outputId": "61f793f3-bd7a-4255-b048-8505debed307"
      },
      "outputs": [
        {
          "name": "stdout",
          "output_type": "stream",
          "text": [
            "0\n",
            "0\n",
            "0\n"
          ]
        }
      ],
      "source": [
        "# Verificar duplicados basados en 'principio_activo', 'concentracion' y 'precio_por_tableta' en df1\n",
        "# Este bloque de código verifica si existen duplicados basados en ciertas columnas clave en el primer dataset.\n",
        "\n",
        "write_to_log(\"Verificando duplicados basados en 'principio_activo', 'concentracion' y 'precio_por_tableta' en el Dataset 1.\")\n",
        "print(df1[['principio_activo', 'unidad_de_dispensacion', 'concentracion', 'unidad_base', 'nombre_comercial', 'fabricante', 'precio_por_tableta', 'factoresprecio']].duplicated().sum())\n",
        "\n",
        "# Verificar duplicados basados en 'principio_activo', 'concentracion' y 'precio_por_tableta' en df3\n",
        "# Verificación de duplicados en el tercer dataset (df3).\n",
        "\n",
        "write_to_log(\"Verificando duplicados basados en 'principio_activo', 'concentracion' y 'precio_por_tableta' en el Dataset 3.\")\n",
        "print(df3[['principio_activo', 'unidad_de_dispensacion', 'concentracion', 'unidad_base', 'nombre_comercial', 'fabricante', 'precio_por_tableta', 'factoresprecio']].duplicated().sum())\n",
        "\n",
        "# Verificar duplicados basados en 'principio_activo', 'concentracion' y 'precio_por_tableta' en df2\n",
        "# Verificación de duplicados en el segundo dataset (df2).\n",
        "\n",
        "write_to_log(\"Verificando duplicados basados en 'principio_activo', 'concentracion' y 'precio_por_tableta' en el Dataset 2.\")\n",
        "print(df2[['principio_activo', 'unidad_de_dispensacion', 'concentracion', 'unidad_base', 'nombre_comercial', 'fabricante', 'precio_por_tableta', 'factoresprecio', 'medicamento', 'canal', 'Expediente_INVIMA']].duplicated().sum())\n"
      ]
    },
    {
      "cell_type": "markdown",
      "metadata": {
        "id": "j23UAAAHQOKI"
      },
      "source": [
        "En este bloque de código, unimos los datasets **`df1`** y **`df3`** utilizando las claves especificadas: **`'principio_activo'`, `'concentracion'`** y **`'precio_por_tableta'**, entre otras. La combinación se realiza utilizando una operación de tipo **`outer join`** para asegurarnos de que todas las filas de ambos datasets se incluyan, incluso si no hay coincidencia exacta entre ellos.\n",
        "\n",
        "- **`df1`** y **`df15`** se combinan usando las claves comunes especificadas en el código.\n",
        "- Después de la unión, se imprime la cantidad de registros del dataset combinado para asegurarnos de que el proceso se haya completado correctamente.\n"
      ]
    },
    {
      "cell_type": "code",
      "execution_count": 34,
      "metadata": {
        "colab": {
          "base_uri": "https://localhost:8080/"
        },
        "id": "h-FWnlbFPtWI",
        "outputId": "2a99e267-d535-4e3c-bd36-d6e13efd4493"
      },
      "outputs": [
        {
          "name": "stdout",
          "output_type": "stream",
          "text": [
            "Cantidad de registros en el dataset combinado: 12408\n"
          ]
        }
      ],
      "source": [
        "# Unir df1 y df3 por las claves 'principio_activo', 'concentracion', 'precio_por_tableta'\n",
        "# En este bloque de código, estamos combinando los datasets df1 y df3 usando las columnas clave especificadas.\n",
        "# Utilizamos una combinación de tipo 'outer' para asegurar que se incluyan todas las filas de ambos datasets.\n",
        "\n",
        "write_to_log(\"Uniendo el Dataset 1 y Dataset 15 por las claves especificadas.\")\n",
        "df_combined = pd.merge(df1, df3, on=['principio_activo', 'unidad_de_dispensacion', 'concentracion', 'unidad_base', 'nombre_comercial', 'fabricante', 'precio_por_tableta', 'factoresprecio'], how='outer', suffixes=('_df1', '_df15'))\n",
        "\n",
        "# Verificar el número de registros después de la combinación\n",
        "# Imprimimos el número de registros del dataset combinado para verificar que la unión se realizó correctamente.\n",
        "\n",
        "write_to_log(f\"Cantidad de registros en el dataset combinado: {df_combined.shape[0]}\")\n",
        "print(f\"Cantidad de registros en el dataset combinado: {df_combined.shape[0]}\")\n",
        "\n"
      ]
    },
    {
      "cell_type": "markdown",
      "metadata": {
        "id": "_wVIedL1Ebba"
      },
      "source": [
        "En este bloque de código, unimos el dataset previamente combinado **`df_combined`** con el segundo dataset **`df2`** utilizando las mismas claves que en las combinaciones anteriores. Se utiliza una operación de tipo **`outer join`** para asegurarnos de que todas las filas de ambos datasets sean incluidas, incluso si no hay coincidencias exactas entre ellos.\n",
        "\n",
        "- **`df_combined`** y **`df2`** se combinan usando las claves comunes especificadas en el código.\n",
        "- Después de la unión, se imprime la cantidad de registros del dataset final para asegurarnos de que el proceso se haya completado correctamente.\n"
      ]
    },
    {
      "cell_type": "code",
      "execution_count": 35,
      "metadata": {
        "colab": {
          "base_uri": "https://localhost:8080/"
        },
        "id": "5L8DPyZXEsjr",
        "outputId": "f2d0a505-3ec3-465d-80ce-33a0f1e377b6"
      },
      "outputs": [
        {
          "name": "stdout",
          "output_type": "stream",
          "text": [
            "Cantidad de registros en el dataset combinado con Dataset 2: 12534\n"
          ]
        }
      ],
      "source": [
        "# Unir el dataset combinado (df_combined) con Dataset 2 (df2)\n",
        "# Este bloque de código une el dataset combinado con el segundo dataset utilizando las claves especificadas.\n",
        "# Se usa una combinación de tipo 'outer' para asegurar que se incluyan todas las filas de ambos datasets.\n",
        "\n",
        "write_to_log(\"Uniendo el dataset combinado con el Dataset 2 por las claves especificadas.\")\n",
        "df_final = pd.merge(df_combined, df2, on=['principio_activo', 'unidad_de_dispensacion', 'concentracion', 'unidad_base', 'nombre_comercial', 'fabricante', 'precio_por_tableta', 'factoresprecio'], how='outer')\n",
        "\n",
        "# Verificar el número de registros después de la combinación\n",
        "# Imprimimos el número de registros del dataset combinado con el Dataset 2 para verificar que la unión se realizó correctamente.\n",
        "\n",
        "write_to_log(f\"Cantidad de registros en el dataset combinado con Dataset 2: {df_final.shape[0]}\")\n",
        "print(f\"Cantidad de registros en el dataset combinado con Dataset 2: {df_final.shape[0]}\")\n",
        "\n"
      ]
    },
    {
      "cell_type": "markdown",
      "metadata": {
        "id": "M8rNMTwSSN1v"
      },
      "source": [
        "En este bloque de código, verificamos si existen valores nulos (**NaN**) en el dataset combinado **`df_final`**.\n"
      ]
    },
    {
      "cell_type": "code",
      "execution_count": 36,
      "metadata": {
        "colab": {
          "base_uri": "https://localhost:8080/"
        },
        "id": "W43VT0P7SSVf",
        "outputId": "487fc086-9c70-4a1e-f339-8bd22489a3e7"
      },
      "outputs": [
        {
          "name": "stdout",
          "output_type": "stream",
          "text": [
            "principio_activo          0\n",
            "unidad_de_dispensacion    0\n",
            "concentracion             0\n",
            "unidad_base               0\n",
            "nombre_comercial          0\n",
            "fabricante                0\n",
            "precio_por_tableta        0\n",
            "factoresprecio            0\n",
            "numerofactor_df1          0\n",
            "numerofactor_df15         0\n",
            "Expediente_INVIMA         0\n",
            "medicamento               0\n",
            "canal                     0\n",
            "numerofactor              0\n",
            "dtype: int64\n"
          ]
        }
      ],
      "source": [
        "# Verificar si hay valores nulos en el dataset combinado\n",
        "# Este bloque de código verifica si existen valores nulos (NaN) en cualquier columna del dataset combinado.\n",
        "\n",
        "write_to_log(\"Verificando si hay valores nulos en el dataset combinado.\")\n",
        "print(df_final.isnull().sum())\n"
      ]
    },
    {
      "cell_type": "markdown",
      "metadata": {
        "id": "p16nWHp92c6b"
      },
      "source": [
        "En este bloque de código, visualizamos las columnas del **dataset final** (**`df_final`**). Esto nos ayuda a entender cómo están organizados los datos y verificar si las combinaciones y transformaciones anteriores han resultado en un dataset estructurado correctamente."
      ]
    },
    {
      "cell_type": "code",
      "execution_count": 39,
      "metadata": {
        "colab": {
          "base_uri": "https://localhost:8080/"
        },
        "id": "NyvUxeGJ_mEl",
        "outputId": "7d40418c-9836-464c-ea82-5571bec2f1a0"
      },
      "outputs": [
        {
          "name": "stdout",
          "output_type": "stream",
          "text": [
            "_______________Dataset final_________________\n",
            "Index(['principio_activo', 'unidad_de_dispensacion', 'concentracion',\n",
            "       'unidad_base', 'nombre_comercial', 'fabricante', 'precio_por_tableta',\n",
            "       'factoresprecio', 'numerofactor_df1', 'numerofactor_df15',\n",
            "       'Expediente_INVIMA', 'medicamento', 'canal', 'numerofactor'],\n",
            "      dtype='object')\n"
          ]
        }
      ],
      "source": [
        "# Ver las columnas de cada dataset\n",
        "# Este bloque de código visualiza las columnas del dataset final (df_final).\n",
        "\n",
        "write_to_log(\"Visualizando las columnas del dataset final.\")\n",
        "print(\"_______________Dataset final_________________\")\n",
        "print(df_final.columns)\n",
        "\n"
      ]
    },
    {
      "cell_type": "markdown",
      "metadata": {
        "id": "Zst_Mvv0Sus3"
      },
      "source": [
        "En este bloque de código, visualizamos las primeras filas del **dataset final** (**`df_final`**). Esto nos permite obtener una vista rápida de los primeros registros para asegurarnos de que los datos se han combinado y transformado correctamente."
      ]
    },
    {
      "cell_type": "code",
      "execution_count": 38,
      "metadata": {
        "colab": {
          "base_uri": "https://localhost:8080/"
        },
        "id": "ueFUQePVSw43",
        "outputId": "884413cd-1c6f-46ec-985d-9a9e9dd98e32"
      },
      "outputs": [
        {
          "name": "stdout",
          "output_type": "stream",
          "text": [
            "        principio_activo unidad_de_dispensacion  \\\n",
            "0               Abacavir                 Frasco   \n",
            "1               Abacavir                Tableta   \n",
            "2  Abacavir + Lamivudina                Tableta   \n",
            "3  Abacavir Y Lamivudina                Tableta   \n",
            "4  Abacavir Y Lamivudina                Tableta   \n",
            "\n",
            "                         concentracion unidad_base       nombre_comercial  \\\n",
            "0                         Abacavir 2 g          ml                 Abacar   \n",
            "1                      Abacavir 300 mg          mg               Abacavir   \n",
            "2  Lamivudina 300 mg + Abacavir 600 mg          mg                Diviral   \n",
            "3  Lamivudina 300 mg + Abacavir 600 mg          mg  Abacavir Y Lamivudina   \n",
            "4  Lamivudina 300 mg + Abacavir 600 mg          mg                 Abalam   \n",
            "\n",
            "    fabricante  precio_por_tableta factoresprecio  numerofactor_df1  \\\n",
            "0  Hetero Labs        41407.547170          Medio                 2   \n",
            "1      Legrand          696.244131          Medio                 2   \n",
            "2      Legrand         1317.120376          Medio                 2   \n",
            "3  Saluspharma         1121.855072           Bajo                 1   \n",
            "4  Hetero Labs         1318.833308          Medio                 2   \n",
            "\n",
            "   numerofactor_df15  Expediente_INVIMA  \\\n",
            "0                  2           20065664   \n",
            "1                  2           20028352   \n",
            "2                  2           19997604   \n",
            "3                  1           20085320   \n",
            "4                  2           20103720   \n",
            "\n",
            "                                         medicamento          canal  \\\n",
            "0  Abacar (Hetero Labs) - Frasco 240 ml - Cada 10...  Institucional   \n",
            "1  Abacavir (Legrand) - Cada Tableta contiene: Ab...  Institucional   \n",
            "2  Diviral (Legrand) - Cada Tableta contiene: Lam...  Institucional   \n",
            "3  Abacavir Y Lamivudina (Saluspharma) - Cada Tab...  Institucional   \n",
            "4  Abalam (Hetero Labs) - Cada Tableta contiene: ...  Institucional   \n",
            "\n",
            "   numerofactor  \n",
            "0             2  \n",
            "1             2  \n",
            "2             2  \n",
            "3             1  \n",
            "4             2  \n"
          ]
        }
      ],
      "source": [
        "# Verificar las primeras filas del dataset final\n",
        "# Este bloque de código muestra las primeras filas del dataset final para verificar su contenido.\n",
        "\n",
        "write_to_log(\"Visualizando las primeras filas del dataset final.\")\n",
        "print(df_final.head())\n",
        "\n"
      ]
    },
    {
      "cell_type": "markdown",
      "metadata": {
        "id": "rPIJ7GQZTJUg"
      },
      "source": [
        "En este bloque de código, visualizamos el **resumen estadístico** de las columnas numéricas del **dataset final** (**`df_final`**). El resumen estadístico incluye medidas como la media, la desviación estándar, el valor mínimo, los percentiles y el valor máximo de las columnas numéricas, lo que nos ayuda a entender mejor la distribución de los datos.\n",
        "\n",
        "- **`df_final.describe()`** proporciona un resumen estadístico para todas las columnas numéricas del dataset.\n",
        "- Este paso es fundamental para obtener una visión general de los datos y detectar posibles anomalías o valores atípicos.\n"
      ]
    },
    {
      "cell_type": "code",
      "execution_count": 40,
      "metadata": {
        "colab": {
          "base_uri": "https://localhost:8080/"
        },
        "id": "in1_8U20TNLI",
        "outputId": "0b23c3ef-d53f-4893-866d-f0bc5847a9c9"
      },
      "outputs": [
        {
          "name": "stdout",
          "output_type": "stream",
          "text": [
            "       precio_por_tableta  numerofactor_df1  numerofactor_df15  \\\n",
            "count        1.253400e+04      12534.000000       12534.000000   \n",
            "mean         1.554083e+05          2.000638           2.000638   \n",
            "std          2.603008e+06          0.659312           0.659312   \n",
            "min          8.960000e-02          1.000000           1.000000   \n",
            "25%          1.018054e+03          2.000000           2.000000   \n",
            "50%          3.891215e+03          2.000000           2.000000   \n",
            "75%          1.807177e+04          2.000000           2.000000   \n",
            "max          2.571032e+08          3.000000           3.000000   \n",
            "\n",
            "       Expediente_INVIMA  numerofactor  \n",
            "count       1.253400e+04  12534.000000  \n",
            "mean        1.665617e+07      2.000638  \n",
            "std         7.467615e+06      0.659312  \n",
            "min         3.521000e+03      1.000000  \n",
            "25%         1.993578e+07      2.000000  \n",
            "50%         2.000500e+07      2.000000  \n",
            "75%         2.008240e+07      2.000000  \n",
            "max         2.023581e+07      3.000000  \n"
          ]
        }
      ],
      "source": [
        "# Ver resumen estadístico de las columnas numéricas\n",
        "# Este bloque de código muestra el resumen estadístico de las columnas numéricas del dataset final.\n",
        "\n",
        "write_to_log(\"Visualizando el resumen estadístico de las columnas numéricas del dataset final.\")\n",
        "print(df_final.describe())\n",
        "\n"
      ]
    },
    {
      "cell_type": "markdown",
      "metadata": {
        "id": "rLdbNfi_TSA2"
      },
      "source": [
        "En este bloque de código, calculamos el **rango intercuartílico (IQR)** para la columna **`'precio_por_tableta'`** en el **dataset final** (**`df_final`**). Usamos el IQR para identificar los **outliers**, que son valores fuera del rango esperado en los datos.\n",
        "\n",
        "- **Q1**: El primer cuartil (percentil 25).\n",
        "- **Q3**: El tercer cuartil (percentil 75).\n",
        "- **IQR**: El rango intercuartílico (Q3 - Q1).\n",
        "- **Límites inferiores y superiores**: Se definen como **`Q1 - 1.5 * IQR`** y **`Q3 + 1.5 * IQR`**, respectivamente. Cualquier valor fuera de estos límites es considerado un **outlier**.\n",
        "\n"
      ]
    },
    {
      "cell_type": "code",
      "execution_count": 41,
      "metadata": {
        "colab": {
          "base_uri": "https://localhost:8080/"
        },
        "id": "df6VVcFtVqjO",
        "outputId": "98e9251e-e31e-4a93-f974-b269613dc5f2"
      },
      "outputs": [
        {
          "name": "stdout",
          "output_type": "stream",
          "text": [
            "Outliers detectados con IQR:\n",
            "                principio_activo unidad_de_dispensacion  \\\n",
            "6                      Abatacept     Jeringa Prellenada   \n",
            "7                      Abatacept                   Vial   \n",
            "8                    Abemaciclib                Tableta   \n",
            "9                    Abemaciclib                Tableta   \n",
            "10                   Abemaciclib                Tableta   \n",
            "...                          ...                    ...   \n",
            "12488               Yodopovidona                 Frasco   \n",
            "12489               Yodopovidona                 Frasco   \n",
            "12490               Yodopovidona                 Frasco   \n",
            "12497                 Zidovudina                   Vial   \n",
            "12533  Ácido Metilén Difosfónico                   Vial   \n",
            "\n",
            "                        concentracion unidad_base nombre_comercial  \\\n",
            "6                    Abatacept 125 mg          ml          Orencia   \n",
            "7                    Abatacept 250 mg          mg          Orencia   \n",
            "8                  Abemaciclib 100 mg          mg         Verzenio   \n",
            "9                  Abemaciclib 150 mg          mg         Verzenio   \n",
            "10                  Abemaciclib 50 mg          mg         Verzenio   \n",
            "...                               ...         ...              ...   \n",
            "12488                Yodopovidona 8 g          ml           Iofoam   \n",
            "12489                Yodopovidona 8 g          ml           Iofoam   \n",
            "12490                Yodopovidona 8 g          ml           Iofoam   \n",
            "12497               Zidovudina 200 mg          mg         Retrovir   \n",
            "12533  Ácido Metilén Difosfónico 5 mg          mg     Rotop-Mdpkit   \n",
            "\n",
            "                 fabricante  precio_por_tableta factoresprecio  \\\n",
            "6      Bristol Myers Squibb        6.191250e+05          Medio   \n",
            "7      Bristol Myers Squibb        1.146710e+06          Medio   \n",
            "8                 Eli Lilly        1.492781e+05          Medio   \n",
            "9                 Eli Lilly        1.987933e+05          Medio   \n",
            "10                Eli Lilly        7.838200e+04          Medio   \n",
            "...                     ...                 ...            ...   \n",
            "12488            Proasepsis        1.059947e+05           Alto   \n",
            "12489            Proasepsis        2.903866e+05           Alto   \n",
            "12490            Proasepsis        3.050000e+05           Alto   \n",
            "12497       Glaxosmithkline        6.277976e+04          Medio   \n",
            "12533                 Selig        1.339143e+05          Medio   \n",
            "\n",
            "       numerofactor_df1  numerofactor_df15  Expediente_INVIMA  \\\n",
            "6                     2                  2           20041743   \n",
            "7                     2                  2           19976227   \n",
            "8                     2                  2           20188001   \n",
            "9                     2                  2           20187776   \n",
            "10                    2                  2           20187782   \n",
            "...                 ...                ...                ...   \n",
            "12488                 3                  3              53412   \n",
            "12489                 3                  3              53412   \n",
            "12490                 3                  3              53412   \n",
            "12497                 2                  2              19237   \n",
            "12533                 2                  2           20174894   \n",
            "\n",
            "                                             medicamento          canal  \\\n",
            "6      Orencia (Bristol Myers Squibb) - Jeringa Prell...  Institucional   \n",
            "7      Orencia (Bristol Myers Squibb) - Cada Vial con...  Institucional   \n",
            "8      Verzenio (Eli Lilly) - Cada Tableta contiene: ...  Institucional   \n",
            "9      Verzenio (Eli Lilly) - Cada Tableta contiene: ...  Institucional   \n",
            "10     Verzenio (Eli Lilly) - Cada Tableta contiene: ...  Institucional   \n",
            "...                                                  ...            ...   \n",
            "12488  Iofoam (Proasepsis) - Frasco 120 ml - Cada 100...      Comercial   \n",
            "12489  Iofoam (Proasepsis) - Frasco 3785 ml - Cada 10...      Comercial   \n",
            "12490  Iofoam (Proasepsis) - Frasco 3785 ml - Cada 10...  Institucional   \n",
            "12497  Retrovir (Glaxosmithkline) - Vial 20 mg - Cada...  Institucional   \n",
            "12533  Rotop-Mdpkit (Selig) - Cada Vial contiene: Áci...  Institucional   \n",
            "\n",
            "       numerofactor  \n",
            "6                 2  \n",
            "7                 2  \n",
            "8                 2  \n",
            "9                 2  \n",
            "10                2  \n",
            "...             ...  \n",
            "12488             3  \n",
            "12489             3  \n",
            "12490             3  \n",
            "12497             2  \n",
            "12533             2  \n",
            "\n",
            "[2000 rows x 14 columns]\n"
          ]
        }
      ],
      "source": [
        "# Calcular los cuartiles\n",
        "# Este bloque de código calcula el primer cuartil (Q1), el tercer cuartil (Q3), y el rango intercuartílico (IQR) para detectar outliers en 'precio_por_tableta'.\n",
        "\n",
        "write_to_log(\"Calculando los cuartiles para detectar outliers en el dataset final.\")\n",
        "Q1 = df_final['precio_por_tableta'].quantile(0.25)\n",
        "Q3 = df_final['precio_por_tableta'].quantile(0.75)\n",
        "IQR = Q3 - Q1\n",
        "\n",
        "# Definir los límites para detectar outliers\n",
        "# Los límites inferior y superior para identificar los outliers se calculan usando el IQR.\n",
        "\n",
        "lower_limit = Q1 - 1.5 * IQR\n",
        "upper_limit = Q3 + 1.5 * IQR\n",
        "\n",
        "# Detectar outliers\n",
        "# Se identifican las filas donde 'precio_por_tableta' está fuera de los límites establecidos.\n",
        "\n",
        "outliers_iqr = df_final[(df_final['precio_por_tableta'] < lower_limit) | (df_final['precio_por_tableta'] > upper_limit)]\n",
        "\n",
        "# Ver los outliers\n",
        "write_to_log(\"Outliers detectados con IQR en el dataset final.\")\n",
        "print(\"Outliers detectados con IQR:\")\n",
        "print(outliers_iqr)\n",
        "\n"
      ]
    },
    {
      "cell_type": "markdown",
      "metadata": {
        "id": "sGw6ZivTXx2-"
      },
      "source": [
        "En este bloque de código, calculamos el **Z-score** de la columna **`'precio_por_tableta'`** para detectar outliers. El Z-score es una medida estadística que indica cuántas desviaciones estándar está un valor con respecto a la media."
      ]
    },
    {
      "cell_type": "code",
      "execution_count": 42,
      "metadata": {
        "colab": {
          "base_uri": "https://localhost:8080/"
        },
        "id": "oDfmJXt2X1qe",
        "outputId": "0d5ddacb-7522-45c0-b25e-2e5dafa98f29"
      },
      "outputs": [
        {
          "name": "stdout",
          "output_type": "stream",
          "text": [
            "Outliers detectados con Z-score:\n",
            "               principio_activo unidad_de_dispensacion  \\\n",
            "860             Agalsidasa Beta                   Vial   \n",
            "994                 Alemtuzumab                 Frasco   \n",
            "2133       Brentuximab Vedotina                   Vial   \n",
            "2301                Cabazitaxel                   Vial   \n",
            "2364                Canakinumab                   Vial   \n",
            "2415               Caplacizumab                   Vial   \n",
            "3454   Cloruro De Radio (223Ra)                 Frasco   \n",
            "3797                Daratumumab                 Frasco   \n",
            "3798                Daratumumab                 Frasco   \n",
            "4682                 Durvalumab                   Vial   \n",
            "4761                 Emicizumab                   Vial   \n",
            "4762                 Emicizumab                   Vial   \n",
            "4763                 Emicizumab                   Vial   \n",
            "6174              Hemina Humana                   Vial   \n",
            "6686                Idursulfasa                   Vial   \n",
            "6807          Iobenguane (131I)                   Vial   \n",
            "6852                 Ipilimumab                   Vial   \n",
            "7253                Lanadelumab                   Vial   \n",
            "7896                   Lutencio                   Vial   \n",
            "8535                Mifamurtida                   Vial   \n",
            "9283                 Nusinersen                   Vial   \n",
            "9296                Ocrelizumab                   Vial   \n",
            "9786                Pasireotida                   Vial   \n",
            "9787                Pasireotida                   Vial   \n",
            "9799              Pembrolizumab                   Vial   \n",
            "9989                 Plerixafor                   Vial   \n",
            "9993       Polatuzumab Vedotina                   Vial   \n",
            "10343               Ramucirumab                   Vial   \n",
            "10426                 Risdiplam                   Vial   \n",
            "10725              Satralizumab     Jeringa Prellenada   \n",
            "11900     Trastuzumab Emtansina                   Vial   \n",
            "11918              Treprostinil                   Vial   \n",
            "11919              Treprostinil                   Vial   \n",
            "11920              Treprostinil                   Vial   \n",
            "11921              Treprostinil                   Vial   \n",
            "12019               Ustekinumab     Jeringa Prellenada   \n",
            "12020               Ustekinumab                   Vial   \n",
            "12189               Vedolizumab                   Vial   \n",
            "\n",
            "                                   concentracion unidad_base  \\\n",
            "860                        Agalsidasa Beta 35 mg          mg   \n",
            "994                            Alemtuzumab 12 mg          ml   \n",
            "2133                  Brentuximab Vedotina 50 mg          mg   \n",
            "2301                           Cabazitaxel 60 mg          mg   \n",
            "2364                          Canakinumab 150 mg          ml   \n",
            "2415                          Caplacizumab 10 mg          mg   \n",
            "3454           Cloruro De Radio (223Ra) 6600 kbq          ml   \n",
            "3797                          Daratumumab 120 mg          ml   \n",
            "3798                          Daratumumab 120 mg          ml   \n",
            "4682                            Durvalumab 50 mg          ml   \n",
            "4761                           Emicizumab 150 mg          ml   \n",
            "4762                           Emicizumab 150 mg          ml   \n",
            "4763                           Emicizumab 150 mg          ml   \n",
            "6174                        Hemina Humana 350 mg          mg   \n",
            "6686                            Idursulfasa 6 mg          ml   \n",
            "6807                    Iobenguane (131I) 0,5 mg          mg   \n",
            "6852                            Ipilimumab 50 mg          ml   \n",
            "7253                          Lanadelumab 300 mg          ml   \n",
            "7896                             Lutencio 80 GBq          ml   \n",
            "8535                            Mifamurtida 4 mg          mg   \n",
            "9283                           Nusinersen 2,4 mg          ml   \n",
            "9296                           Ocrelizumab 30 mg          ml   \n",
            "9786                           Pasireotida 40 mg          mg   \n",
            "9787                           Pasireotida 60 mg          mg   \n",
            "9799                        Pembrolizumab 100 mg          ml   \n",
            "9989                            Plerixafor 24 mg          ml   \n",
            "9993                 Polatuzumab Vedotina 140 mg          mg   \n",
            "10343                          Ramucirumab 10 mg          ml   \n",
            "10426                            Risdiplam 60 mg          ml   \n",
            "10725                        Satralizumab 120 mg          ml   \n",
            "11900               Trastuzumab Emtansina 160 mg          mg   \n",
            "11918                         Treprostinil 10 mg          ml   \n",
            "11919                        Treprostinil 2,5 mg          ml   \n",
            "11920  Treprostinil 2,5 mg + Treprostinil 2,5 mg          ml   \n",
            "11921                          Treprostinil 5 mg          ml   \n",
            "12019                          Ustekinumab 45 mg          ml   \n",
            "12020                          Ustekinumab 45 mg          ml   \n",
            "12189                         Vedolizumab 331 mg          mg   \n",
            "\n",
            "                 nombre_comercial               fabricante  \\\n",
            "860                     Fabrazyme                  Genzyme   \n",
            "994                      Lemtrada                  Genzyme   \n",
            "2133                     Adcetris                  Baxalta   \n",
            "2301                      Jevtana           Sanofi Aventis   \n",
            "2364                       Ilaris                 Novartis   \n",
            "2415                      Cablivi           Sanofi Aventis   \n",
            "3454                       Xofigo                    Bayer   \n",
            "3797                     Darzalex                  Janssen   \n",
            "3798                     Darzalex                  Janssen   \n",
            "4682                      Imfinzi              Astrazeneca   \n",
            "4761                     Hemlibra                    Roche   \n",
            "4762                     Hemlibra                    Roche   \n",
            "4763                     Hemlibra                    Roche   \n",
            "6174                   Panhematin  Recordati Rare Diseases   \n",
            "6686                     Elaprase                  Baxalta   \n",
            "6807   Meta- Iodobenzyl Guanidine            Ge Healthcare   \n",
            "6852                       Yervoy     Bristol Myers Squibb   \n",
            "7253                     Takhzyro                  Baxalta   \n",
            "7896                Endolucinbeta              Itm Medical   \n",
            "8535                       Mepact                  Baxalta   \n",
            "9283                     Spinraza                   Biogen   \n",
            "9296                      Ocrevus                    Roche   \n",
            "9786                 Signifor Lar  Recordati Rare Diseases   \n",
            "9787                     Signifor  Recordati Rare Diseases   \n",
            "9799                     Keytruda         Merck Sharp Dome   \n",
            "9989                      Mozobil                  Genzyme   \n",
            "9993                       Polivy                    Roche   \n",
            "10343                     Cyramza                Eli Lilly   \n",
            "10426                     Evrysdi                    Roche   \n",
            "10725                    Enspryng                    Roche   \n",
            "11900                     Kadcyla                    Roche   \n",
            "11918                   Remodulin                   Ferrer   \n",
            "11919                   Remodulin                   Ferrer   \n",
            "11920                   Remodulin                   Ferrer   \n",
            "11921                   Remodulin                   Ferrer   \n",
            "12019                     Stelara                  Janssen   \n",
            "12020                     Stelara                  Janssen   \n",
            "12189                     Entyvio                  Baxalta   \n",
            "\n",
            "       precio_por_tableta factoresprecio  numerofactor_df1  numerofactor_df15  \\\n",
            "860          9.360807e+06          Medio                 2                  2   \n",
            "994          2.562586e+07          Medio                 2                  2   \n",
            "2133         1.286348e+07          Medio                 2                  2   \n",
            "2301         1.065268e+07           Alto                 3                  3   \n",
            "2364         2.737720e+07          Medio                 2                  2   \n",
            "2415         1.571429e+07          Medio                 2                  2   \n",
            "3454         1.897325e+07          Medio                 2                  2   \n",
            "3797         1.336399e+07          Medio                 2                  2   \n",
            "3798         1.336399e+07          Medio                 2                  2   \n",
            "4682         9.139573e+06           Alto                 3                  3   \n",
            "4761         1.324522e+07           Bajo                 1                  1   \n",
            "4762         2.314976e+07          Medio                 2                  2   \n",
            "4763         3.311305e+07           Alto                 3                  3   \n",
            "6174         2.072147e+07          Medio                 2                  2   \n",
            "6686         8.879862e+06          Medio                 2                  2   \n",
            "6807         8.096667e+06          Medio                 2                  2   \n",
            "6852         1.450860e+07          Medio                 2                  2   \n",
            "7253         2.942440e+07          Medio                 2                  2   \n",
            "7896         1.772839e+07          Medio                 2                  2   \n",
            "8535         9.332723e+06          Medio                 2                  2   \n",
            "9283         2.571032e+08          Medio                 2                  2   \n",
            "9296         1.827319e+07          Medio                 2                  2   \n",
            "9786         1.107260e+07          Medio                 2                  2   \n",
            "9787         1.660890e+07          Medio                 2                  2   \n",
            "9799         1.145800e+07          Medio                 2                  2   \n",
            "9989         1.793887e+07          Medio                 2                  2   \n",
            "9993         4.057410e+07          Medio                 2                  2   \n",
            "10343        8.404550e+06           Alto                 3                  3   \n",
            "10426        3.052807e+07          Medio                 2                  2   \n",
            "10725        2.834328e+07          Medio                 2                  2   \n",
            "11900        8.756021e+06          Medio                 2                  2   \n",
            "11918        6.065689e+07          Medio                 2                  2   \n",
            "11919        1.516422e+07          Medio                 2                  2   \n",
            "11920        1.516422e+07          Medio                 2                  2   \n",
            "11921        3.032844e+07          Medio                 2                  2   \n",
            "12019        8.454377e+06          Medio                 2                  2   \n",
            "12020        8.454377e+06          Medio                 2                  2   \n",
            "12189        8.085590e+06          Medio                 2                  2   \n",
            "\n",
            "       Expediente_INVIMA                                        medicamento  \\\n",
            "860             19951126  Fabrazyme (Genzyme) - Cada Vial contiene: Agal...   \n",
            "994             20067976  Lemtrada (Genzyme) - Frasco 1,2 ml - Cada 1,2 ...   \n",
            "2133            20058697  Adcetris (Baxalta) - Cada Vial contiene: Brent...   \n",
            "2301            20039453  Jevtana (Sanofi Aventis) - Cada Vial contiene:...   \n",
            "2364            20135091  Ilaris (Novartis) - Vial 1 ml - Cada 1 ml cont...   \n",
            "2415            20176684  Cablivi (Sanofi Aventis) - Cada Vial contiene:...   \n",
            "3454            20061395  Xofigo (Bayer) - Frasco 10 ml - Cada 10 ml con...   \n",
            "3797            20202939  Darzalex (Janssen) - Frasco 15 ml - Cada 1 ml ...   \n",
            "3798            20202939  Darzalex (Janssen) - Frasco 15 ml - Cada 1 ml ...   \n",
            "4682            20143749  Imfinzi (Astrazeneca) - Vial 10 ml - Cada 1 ml...   \n",
            "4761            20135003  Hemlibra (Roche) - Vial 0,4 ml - Cada 1 ml con...   \n",
            "4762            20135003  Hemlibra (Roche) - Vial 0,7 ml - Cada 1 ml con...   \n",
            "4763            20135003  Hemlibra (Roche) - Vial 1 ml - Cada 1 ml conti...   \n",
            "6174            20138464  Panhematin (Recordati Rare Diseases) - Cada Vi...   \n",
            "6686            20020363  Elaprase (Baxalta) - Vial 3 ml - Cada 3 ml con...   \n",
            "6807            19903917  Meta- Iodobenzyl Guanidine (Ge Healthcare) - V...   \n",
            "6852            20031989  Yervoy (Bristol Myers Squibb) - Vial 10 ml - C...   \n",
            "7253            20154566  Takhzyro (Baxalta) - Vial 2 ml - Cada 2 ml con...   \n",
            "7896            20176167  Endolucinbeta (Itm Medical) - Vial 2 ml - Cada...   \n",
            "8535            20052480  Mepact (Baxalta) - Cada Vial contiene: Mifamur...   \n",
            "9283            20134513  Spinraza (Biogen) - Vial 5 ml - Cada 1 ml cont...   \n",
            "9296            20115374  Ocrevus (Roche) - Vial 10 ml - Cada 1 ml conti...   \n",
            "9786            20090641  Signifor Lar (Recordati Rare Diseases) - Cada ...   \n",
            "9787            20090642  Signifor (Recordati Rare Diseases) - Cada Vial...   \n",
            "9799            20085509  Keytruda (Merck Sharp Dome) - Vial 4 ml - Cada...   \n",
            "9989            20056150  Mozobil (Genzyme) - Vial 1,2 ml - Cada 1,2 ml ...   \n",
            "9993            20167788  Polivy (Roche) - Cada Vial contiene: Polatuzum...   \n",
            "10343           20111011  Cyramza (Eli Lilly) - Vial 50 ml - Cada 1 ml c...   \n",
            "10426           20197087  Evrysdi (Roche) - Vial 80 ml - Cada 80 ml cont...   \n",
            "10725           20174435  Enspryng (Roche) - Jeringa Prellenada 1 ml - C...   \n",
            "11900           20064940  Kadcyla (Roche) - Cada Vial contiene: Trastuzu...   \n",
            "11918           20088578  Remodulin (Ferrer) - Vial 20 ml - Cada 1 ml co...   \n",
            "11919           20087950  Remodulin (Ferrer) - Vial 20 ml - Cada 1 ml co...   \n",
            "11920           20087950  Remodulin (Ferrer) - Vial 20 ml - Cada 1 ml co...   \n",
            "11921           20054990  Remodulin (Ferrer) - Vial 20 ml - Cada 1 ml co...   \n",
            "12019           20009810  Stelara (Janssen) - Jeringa Prellenada 0,5 ml ...   \n",
            "12020           20009810  Stelara (Janssen) - Vial 0,5 ml - Cada 0,5 ml ...   \n",
            "12189           20085224  Entyvio (Baxalta) - Cada Vial contiene: Vedoli...   \n",
            "\n",
            "               canal  numerofactor  \n",
            "860    Institucional             2  \n",
            "994    Institucional             2  \n",
            "2133   Institucional             2  \n",
            "2301   Institucional             3  \n",
            "2364   Institucional             2  \n",
            "2415   Institucional             2  \n",
            "3454   Institucional             2  \n",
            "3797       Comercial             2  \n",
            "3798   Institucional             2  \n",
            "4682   Institucional             3  \n",
            "4761   Institucional             1  \n",
            "4762   Institucional             2  \n",
            "4763   Institucional             3  \n",
            "6174   Institucional             2  \n",
            "6686   Institucional             2  \n",
            "6807   Institucional             2  \n",
            "6852   Institucional             2  \n",
            "7253   Institucional             2  \n",
            "7896   Institucional             2  \n",
            "8535   Institucional             2  \n",
            "9283   Institucional             2  \n",
            "9296   Institucional             2  \n",
            "9786   Institucional             2  \n",
            "9787   Institucional             2  \n",
            "9799   Institucional             2  \n",
            "9989   Institucional             2  \n",
            "9993   Institucional             2  \n",
            "10343  Institucional             3  \n",
            "10426  Institucional             2  \n",
            "10725  Institucional             2  \n",
            "11900  Institucional             2  \n",
            "11918  Institucional             2  \n",
            "11919  Institucional             2  \n",
            "11920  Institucional             2  \n",
            "11921  Institucional             2  \n",
            "12019  Institucional             2  \n",
            "12020  Institucional             2  \n",
            "12189  Institucional             2  \n"
          ]
        }
      ],
      "source": [
        "from scipy import stats\n",
        "\n",
        "# Calcular el Z-score de la columna 'precio_por_tableta'\n",
        "# Este bloque de código calcula el Z-score para detectar outliers en la columna 'precio_por_tableta'.\n",
        "\n",
        "write_to_log(\"Calculando el Z-score para detectar outliers en el dataset final.\")\n",
        "z_scores = stats.zscore(df_final['precio_por_tableta'])\n",
        "\n",
        "# Detectar outliers si el Z-score es mayor a 3 o menor a -3\n",
        "# Los outliers se identifican como aquellos valores cuya puntuación Z es mayor a 3 o menor a -3.\n",
        "\n",
        "outliers_zscore = df_final[(z_scores > 3) | (z_scores < -3)]\n",
        "\n",
        "# Ver los outliers\n",
        "write_to_log(\"Outliers detectados con Z-score en el dataset final.\")\n",
        "print(\"Outliers detectados con Z-score:\")\n",
        "print(outliers_zscore)\n",
        "\n"
      ]
    },
    {
      "cell_type": "markdown",
      "metadata": {
        "id": "Db2TPEiHYB93"
      },
      "source": [
        "En este bloque de código, generamos un **histograma** para visualizar la distribución de los valores en la columna **`'precio_por_tableta'`** del **dataset final** (**`df_final`**). El histograma nos ayudará a ver cómo se distribuyen los precios de los medicamentos en los datos, lo que puede ser útil para detectar patrones, sesgos o la presencia de valores atípicos.\n",
        "\n"
      ]
    },
    {
      "cell_type": "code",
      "execution_count": 43,
      "metadata": {
        "colab": {
          "base_uri": "https://localhost:8080/",
          "height": 565
        },
        "id": "MuGOCcJeXIrm",
        "outputId": "20d640dd-9470-4c33-e9c1-3c63605689cd"
      },
      "outputs": [
        {
          "data": {
            "image/png": "[encoded data removed]",
            "text/plain": [
              "<Figure size 1000x600 with 1 Axes>"
            ]
          },
          "metadata": {},
          "output_type": "display_data"
        }
      ],
      "source": [
        "import matplotlib.pyplot as plt\n",
        "\n",
        "# Crear histograma de 'precio_por_tableta'\n",
        "# Este bloque de código genera un histograma para visualizar la distribución de los precios por tableta en el dataset final.\n",
        "\n",
        "write_to_log(\"Generando el histograma de 'precio_por_tableta' en el dataset final.\")\n",
        "plt.figure(figsize=(10, 6))  # Definir el tamaño de la figura\n",
        "plt.hist(df_final['precio_por_tableta'], bins=30, color='skyblue', edgecolor='black')  # Crear el histograma\n",
        "plt.title('Distribución de Precio por Tableta')  # Título del histograma\n",
        "plt.xlabel('Precio por Tableta')  # Etiqueta en el eje X\n",
        "plt.ylabel('Frecuencia')  # Etiqueta en el eje Y\n",
        "plt.show()  # Mostrar el histograma\n",
        "\n",
        "\n"
      ]
    },
    {
      "cell_type": "markdown",
      "metadata": {
        "id": "Gsssn0k46EON"
      },
      "source": [
        "En este bloque de código, generamos un **boxplot** para visualizar la distribución de los valores en la columna **`'precio_por_tableta'`** del **dataset final** (**`df_final`**). El boxplot es útil para identificar la **mediana**, los **cuartiles**, y los **outliers** en los datos. con el fin de vizualizar los outliers o valores atipicos.\n"
      ]
    },
    {
      "cell_type": "code",
      "execution_count": 44,
      "metadata": {
        "colab": {
          "base_uri": "https://localhost:8080/",
          "height": 564
        },
        "id": "KsSOkBs-YHsV",
        "outputId": "9c5b8333-7d4e-44c2-a0ef-feaffd3ca1c6"
      },
      "outputs": [
        {
          "data": {
            "image/png": "[encoded data removed]",
            "text/plain": [
              "<Figure size 1000x600 with 1 Axes>"
            ]
          },
          "metadata": {},
          "output_type": "display_data"
        }
      ],
      "source": [
        "import matplotlib.pyplot as plt\n",
        "\n",
        "# Crear boxplot de 'precio_por_tableta'\n",
        "# Este bloque de código genera un boxplot para visualizar la distribución y los outliers de los precios por tableta en el dataset final.\n",
        "\n",
        "write_to_log(\"Generando el boxplot de 'precio_por_tableta' en el dataset final.\")\n",
        "plt.figure(figsize=(10, 6))  # Definir el tamaño de la figura\n",
        "plt.boxplot(df_final['precio_por_tableta'], vert=False)  # Crear el boxplot\n",
        "plt.title('Boxplot de Precio por Tableta')  # Título del boxplot\n",
        "plt.xlabel('Precio por Tableta')  # Etiqueta en el eje X\n",
        "plt.show()  # Mostrar el boxplot\n"
      ]
    },
    {
      "cell_type": "markdown",
      "metadata": {
        "id": "t6pHM0xQ6lSb"
      },
      "source": [
        "En este bloque de código, eliminamos los **outliers** de la columna **`'precio_por_tableta'`** utilizando el rango **IQR** previamente calculado. Los outliers son valores que caen fuera de los límites inferiores y superiores definidos por el **IQR**.\n",
        "\n",
        "- Se filtran las filas en **`df_final`** para mantener solo aquellas cuyo valor de **`'precio_por_tableta'`** esté dentro de los límites calculados.\n",
        "- Después de eliminar los outliers, se verifica la cantidad de registros restantes en el dataset.\n"
      ]
    },
    {
      "cell_type": "code",
      "execution_count": 45,
      "metadata": {
        "colab": {
          "base_uri": "https://localhost:8080/"
        },
        "id": "9JrP7WZ2ZQEG",
        "outputId": "d542471b-a4cb-4959-c7f4-0a7af9f4959d"
      },
      "outputs": [
        {
          "name": "stdout",
          "output_type": "stream",
          "text": [
            "Cantidad de registros después de eliminar los outliers: 10534\n"
          ]
        }
      ],
      "source": [
        "# Eliminar outliers usando el rango IQR\n",
        "# Este bloque de código elimina los outliers en la columna 'precio_por_tableta' utilizando el rango IQR previamente calculado.\n",
        "\n",
        "write_to_log(\"Eliminando outliers utilizando el rango IQR en el dataset final.\")\n",
        "df_cleaned = df_final[(df_final['precio_por_tableta'] >= lower_limit) & (df_final['precio_por_tableta'] <= upper_limit)]\n",
        "\n",
        "# Verificar el número de registros después de eliminar los outliers\n",
        "# Comprobamos cuántos registros quedan después de eliminar los outliers.\n",
        "\n",
        "write_to_log(f\"Cantidad de registros después de eliminar los outliers: {df_cleaned.shape[0]}\")\n",
        "print(f\"Cantidad de registros después de eliminar los outliers: {df_cleaned.shape[0]}\")\n",
        "\n"
      ]
    },
    {
      "cell_type": "markdown",
      "metadata": {
        "id": "WdRnklXv7FW8"
      },
      "source": [
        "En este bloque de código, generamos dos **histogramas** para visualizar la **distribución de los precios por tableta** en el dataset antes y después de eliminar los outliers.\n",
        "\n",
        "1. **Histograma antes de eliminar outliers**:\n",
        "   - Este histograma muestra la distribución de los valores de **`'precio_por_tableta'`** en el **dataset original** (antes de la eliminación de los outliers).\n",
        "\n",
        "2. **Histograma después de eliminar outliers**:\n",
        "   - Este histograma muestra cómo cambia la distribución de los precios después de eliminar los outliers.\n",
        "\n",
        "Ambos histogramas permiten visualizar cómo los outliers afectan la distribución de los datos y cómo se modifican una vez que se eliminan.\n"
      ]
    },
    {
      "cell_type": "code",
      "execution_count": 46,
      "metadata": {
        "colab": {
          "base_uri": "https://localhost:8080/",
          "height": 1000
        },
        "id": "DvuRZUEebQtN",
        "outputId": "6907da3b-02d4-4110-f548-cc9df277386a"
      },
      "outputs": [
        {
          "data": {
            "image/png": "[encoded data removed]",
            "text/plain": [
              "<Figure size 1000x600 with 1 Axes>"
            ]
          },
          "metadata": {},
          "output_type": "display_data"
        },
        {
          "data": {
            "image/png": "[encoded data removed]",
            "text/plain": [
              "<Figure size 1000x600 with 1 Axes>"
            ]
          },
          "metadata": {},
          "output_type": "display_data"
        }
      ],
      "source": [
        "import matplotlib.pyplot as plt\n",
        "\n",
        "# Histograma antes de eliminar outliers\n",
        "# Este bloque de código genera el histograma de la columna 'precio_por_tableta' antes de eliminar los outliers.\n",
        "\n",
        "write_to_log(\"Generando el histograma de 'precio_por_tableta' antes de eliminar los outliers.\")\n",
        "plt.figure(figsize=(10, 6))\n",
        "plt.hist(df_final['precio_por_tableta'], bins=30, color='skyblue', edgecolor='black')\n",
        "plt.title('Distribución de Precio por Tableta (Antes de eliminar outliers)')\n",
        "plt.xlabel('Precio por Tableta')\n",
        "plt.ylabel('Frecuencia')\n",
        "plt.show()\n",
        "\n",
        "# Histograma después de eliminar outliers\n",
        "# Este bloque de código genera el histograma de la columna 'precio_por_tableta' después de eliminar los outliers.\n",
        "\n",
        "write_to_log(\"Generando el histograma de 'precio_por_tableta' después de eliminar los outliers.\")\n",
        "plt.figure(figsize=(10, 6))\n",
        "plt.hist(df_cleaned['precio_por_tableta'], bins=30, color='salmon', edgecolor='black')\n",
        "plt.title('Distribución de Precio por Tableta (Después de eliminar outliers)')\n",
        "plt.xlabel('Precio por Tableta')\n",
        "plt.ylabel('Frecuencia')\n",
        "plt.show()\n",
        "\n"
      ]
    },
    {
      "cell_type": "markdown",
      "metadata": {
        "id": "KvUIW0Hu7fBT"
      },
      "source": [
        "En este bloque de código, verificamos si existen valores nulos (**NaN**) en las columnas del **dataset limpio** (**`df_cleaned`**). Después de eliminar los outliers, es importante asegurarse de que no queden valores nulos que puedan afectar el análisis posterior.\n"
      ]
    },
    {
      "cell_type": "code",
      "execution_count": 47,
      "metadata": {
        "colab": {
          "base_uri": "https://localhost:8080/"
        },
        "id": "Xk3zaMaGbo71",
        "outputId": "9e5b61ca-9ad3-469c-d985-733947d34115"
      },
      "outputs": [
        {
          "name": "stdout",
          "output_type": "stream",
          "text": [
            "principio_activo          0\n",
            "unidad_de_dispensacion    0\n",
            "concentracion             0\n",
            "unidad_base               0\n",
            "nombre_comercial          0\n",
            "fabricante                0\n",
            "precio_por_tableta        0\n",
            "factoresprecio            0\n",
            "numerofactor_df1          0\n",
            "numerofactor_df15         0\n",
            "Expediente_INVIMA         0\n",
            "medicamento               0\n",
            "canal                     0\n",
            "numerofactor              0\n",
            "dtype: int64\n"
          ]
        }
      ],
      "source": [
        "# Verificar si hay valores nulos en el dataset limpio\n",
        "# Este bloque de código verifica si existen valores nulos (NaN) en cualquier columna del dataset limpio.\n",
        "\n",
        "write_to_log(\"Verificando si hay valores nulos en el dataset limpio.\")\n",
        "print(df_cleaned.isnull().sum())\n"
      ]
    },
    {
      "cell_type": "markdown",
      "metadata": {
        "id": "ThN9nEez7-Cy"
      },
      "source": [
        "En este bloque de código, verificamos si existen filas duplicadas en el **dataset limpio** (**`df_cleaned`**)."
      ]
    },
    {
      "cell_type": "code",
      "execution_count": 48,
      "metadata": {
        "colab": {
          "base_uri": "https://localhost:8080/"
        },
        "id": "D7_YVdjjbsGN",
        "outputId": "0a2b826b-7182-4547-f5c9-5b6ca49c365b"
      },
      "outputs": [
        {
          "name": "stdout",
          "output_type": "stream",
          "text": [
            "0\n"
          ]
        }
      ],
      "source": [
        "# Verificar si hay duplicados en el dataset limpio\n",
        "# Este bloque de código verifica si existen filas duplicadas en el dataset limpio.\n",
        "\n",
        "write_to_log(\"Verificando si hay duplicados en el dataset limpio.\")\n",
        "print(df_cleaned.duplicated().sum())\n"
      ]
    },
    {
      "cell_type": "markdown",
      "metadata": {
        "id": "GvSm_BNJ8MNq"
      },
      "source": [
        "En este bloque de código, generamos un **boxplot** para visualizar la distribución de la columna **`'precio_por_tableta'`** del **dataset limpio** (**`df_cleaned`**). Con el fin de rectificar si hubo cambios en cuanto a la reduccion de outliers.\n"
      ]
    },
    {
      "cell_type": "code",
      "execution_count": 49,
      "metadata": {
        "colab": {
          "base_uri": "https://localhost:8080/",
          "height": 564
        },
        "id": "E3C5SOMHKt9D",
        "outputId": "a6d58a8a-c65c-4aa7-ea8f-826d245bbadd"
      },
      "outputs": [
        {
          "data": {
            "image/png": "[encoded data removed]",
            "text/plain": [
              "<Figure size 1000x600 with 1 Axes>"
            ]
          },
          "metadata": {},
          "output_type": "display_data"
        }
      ],
      "source": [
        "import matplotlib.pyplot as plt\n",
        "\n",
        "# Crear boxplot de 'precio_por_tableta'\n",
        "# Este bloque de código genera un boxplot para visualizar la distribución y los outliers de los precios por tableta en el dataset limpio.\n",
        "\n",
        "write_to_log(\"Generando el boxplot de 'precio_por_tableta' en el dataset limpio.\")\n",
        "plt.figure(figsize=(10, 6))  # Definir el tamaño de la figura\n",
        "plt.boxplot(df_cleaned['precio_por_tableta'], vert=False)  # Crear el boxplot\n",
        "plt.title('Boxplot de Precio por Tableta')  # Título del boxplot\n",
        "plt.xlabel('Precio por Tableta')  # Etiqueta en el eje X\n",
        "plt.show()  # Mostrar el boxplot\n"
      ]
    },
    {
      "cell_type": "markdown",
      "metadata": {
        "id": "f3jrbU7n86XS"
      },
      "source": [
        "En este bloque de código, verificamos los **tipos de datos** de las columnas en el **dataset limpio** (**`df_cleaned`**) después de todas las transformaciones realizadas."
      ]
    },
    {
      "cell_type": "code",
      "execution_count": 50,
      "metadata": {
        "colab": {
          "base_uri": "https://localhost:8080/"
        },
        "id": "6cUw8jmIn67Y",
        "outputId": "52af3063-107f-462e-c334-22147a4cf64e"
      },
      "outputs": [
        {
          "name": "stdout",
          "output_type": "stream",
          "text": [
            "principio_activo           object\n",
            "unidad_de_dispensacion     object\n",
            "concentracion              object\n",
            "unidad_base                object\n",
            "nombre_comercial           object\n",
            "fabricante                 object\n",
            "precio_por_tableta        float64\n",
            "factoresprecio             object\n",
            "numerofactor_df1            int64\n",
            "numerofactor_df15           int64\n",
            "Expediente_INVIMA           int64\n",
            "medicamento                object\n",
            "canal                      object\n",
            "numerofactor                int64\n",
            "dtype: object\n"
          ]
        }
      ],
      "source": [
        "# Verificar los tipos de datos después de la conversión\n",
        "# Este bloque de código verifica los tipos de datos de las columnas en el dataset limpio después de todas las transformaciones.\n",
        "\n",
        "write_to_log(\"Verificando los tipos de datos en el dataset limpio después de la conversión.\")\n",
        "print(df_cleaned.dtypes)\n"
      ]
    },
    {
      "cell_type": "markdown",
      "metadata": {
        "id": "PjHEEOv9pVJh"
      },
      "source": [
        "### Carga de datos a la base de datos\n",
        "\n",
        "En este bloque de código, preparamos los datos para cargar los registros limpios a la base de datos SQLite. Esto incluye la conversión de las columnas al tipo de dato adecuado (texto o numérico), lo que garantiza que los datos se almacenen correctamente en la base de datos.\n",
        "\n",
        "1. **Conversión de columnas de texto a tipo `str`**: Utilizamos **`astype(str)`** para convertir las columnas de texto a tipo cadena de caracteres (`str`). Esto asegura que las columnas como **`'principio_activo'`**, **`'unidad_de_dispensacion'`**, **`'concentracion'`**, etc., se almacenarán como cadenas de texto en la base de datos.\n",
        "   \n",
        "2. **Conversión de columnas numéricas a tipo adecuado**: Utilizamos **`pd.to_numeric()`** para convertir las columnas numéricas (como **`'precio_por_tableta'`**, **`'numerofactor'`**, etc.) a tipos numéricos adecuados, como **`float64`** o **`int64`**.\n",
        "\n",
        "3. **Verificación de los tipos de datos**: Después de las conversiones, verificamos que las columnas tengan los tipos correctos utilizando **`df_cleaned.dtypes`**.\n"
      ]
    },
    {
      "cell_type": "code",
      "execution_count": 51,
      "metadata": {
        "colab": {
          "base_uri": "https://localhost:8080/"
        },
        "id": "5f5J9_kNpTgI",
        "outputId": "80ab5b04-b982-4b33-f017-38e1f66eda61"
      },
      "outputs": [
        {
          "name": "stdout",
          "output_type": "stream",
          "text": [
            "principio_activo           object\n",
            "unidad_de_dispensacion     object\n",
            "concentracion              object\n",
            "unidad_base                object\n",
            "nombre_comercial           object\n",
            "fabricante                 object\n",
            "precio_por_tableta        float64\n",
            "factoresprecio             object\n",
            "numerofactor_df1            int64\n",
            "numerofactor_df15           int64\n",
            "Expediente_INVIMA           int64\n",
            "medicamento                object\n",
            "canal                      object\n",
            "numerofactor                int64\n",
            "dtype: object\n"
          ]
        }
      ],
      "source": [
        "# Preparar los datos para cargar los datos limpios a la base de datos SQLite\n",
        "# Convertir las columnas de texto a tipo str utilizando .loc\n",
        "\n",
        "write_to_log(\"Convirtiendo las columnas de texto a tipo str en el dataset limpio.\")\n",
        "df_cleaned.loc[:, 'principio_activo'] = df_cleaned['principio_activo'].astype(str)\n",
        "df_cleaned.loc[:, 'unidad_de_dispensacion'] = df_cleaned['unidad_de_dispensacion'].astype(str)\n",
        "df_cleaned.loc[:, 'concentracion'] = df_cleaned['concentracion'].astype(str)\n",
        "df_cleaned.loc[:, 'nombre_comercial'] = df_cleaned['nombre_comercial'].astype(str)\n",
        "df_cleaned.loc[:, 'fabricante'] = df_cleaned['fabricante'].astype(str)\n",
        "df_cleaned.loc[:, 'factoresprecio'] = df_cleaned['factoresprecio'].astype(str)\n",
        "df_cleaned.loc[:, 'medicamento'] = df_cleaned['medicamento'].astype(str)\n",
        "df_cleaned.loc[:, 'canal'] = df_cleaned['canal'].astype(str)\n",
        "\n",
        "# Convertir las columnas numéricas a tipo float64 o int64\n",
        "write_to_log(\"Convirtiendo las columnas numéricas a tipo float64 o int64 en el dataset limpio.\")\n",
        "df_cleaned.loc[:, 'precio_por_tableta'] = pd.to_numeric(df_cleaned['precio_por_tableta'], errors='coerce')\n",
        "df_cleaned.loc[:, 'numerofactor'] = pd.to_numeric(df_cleaned['numerofactor'], errors='coerce')\n",
        "df_cleaned.loc[:, 'numerofactor_df1'] = pd.to_numeric(df_cleaned['numerofactor_df1'], errors='coerce')\n",
        "df_cleaned.loc[:, 'numerofactor_df15'] = pd.to_numeric(df_cleaned['numerofactor_df15'], errors='coerce')\n",
        "df_cleaned.loc[:, 'Expediente_INVIMA'] = pd.to_numeric(df_cleaned['Expediente_INVIMA'], errors='coerce')\n",
        "\n",
        "# Verificar los tipos de datos después de la conversión\n",
        "write_to_log(\"Verificando los tipos de datos después de la conversión en el dataset limpio.\")\n",
        "print(df_cleaned.dtypes)\n",
        "\n"
      ]
    },
    {
      "cell_type": "markdown",
      "metadata": {
        "id": "8Z8Mk9ANqq8_"
      },
      "source": [
        "En este bloque de código, conectamos a la base de datos SQLite **`medicamentos.db`** y cargamos los datos limpios (**`df_cleaned`**) en una tabla llamada **`precios`**.\n",
        "\n",
        "1. **Conexión a la base de datos**:\n",
        "   - Utilizamos **`sqlite3.connect()`** para conectarnos a la base de datos **`medicamentos.db`**. Si la base de datos no existe, SQLite la crea automáticamente.\n",
        "   \n",
        "2. **Creación de la tabla**:\n",
        "   - Si la tabla **`precios`** no existe, se crea utilizando **`CREATE TABLE IF NOT EXISTS`**. Esta tabla almacenará todos los datos limpios.\n",
        "   \n",
        "3. **Conversión de los datos a tuplas**:\n",
        "   - Convertimos el **DataFrame** **`df_cleaned`** en una lista de tuplas para poder insertar los datos en la base de datos.\n",
        "   \n",
        "4. **Inserción de los datos**:\n",
        "   - Usamos **`cursor.executemany()`** para insertar todas las filas de una vez en la tabla **`precios`**.\n",
        "   \n",
        "5. **Guardar y cerrar**:\n",
        "   - Finalmente, **`conn.commit()`** guarda los cambios en la base de datos y **`conn.close()`** cierra la conexión.\n",
        "\n"
      ]
    },
    {
      "cell_type": "code",
      "execution_count": 52,
      "metadata": {
        "colab": {
          "base_uri": "https://localhost:8080/"
        },
        "id": "QLyL5exqqqcg",
        "outputId": "c6ff5814-195c-42cb-dfc3-2d60709734a1"
      },
      "outputs": [
        {
          "name": "stdout",
          "output_type": "stream",
          "text": [
            "Datos cargados en la base de datos con éxito.\n"
          ]
        }
      ],
      "source": [
        "import sqlite3\n",
        "\n",
        "# Conectar a la base de datos SQLite (se creará si no existe)\n",
        "# Este bloque de código se conecta a la base de datos SQLite y crea la tabla si no existe.\n",
        "\n",
        "write_to_log(\"Conectando a la base de datos SQLite y creando la tabla 'precios' si no existe.\")\n",
        "conn = sqlite3.connect('medicamentos.db')\n",
        "cursor = conn.cursor()\n",
        "\n",
        "# Crear la tabla 'precios' si no existe\n",
        "# Si la tabla ya existe, no hace nada. Se utiliza para almacenar los datos limpios.\n",
        "\n",
        "cursor.execute('''\n",
        "CREATE TABLE IF NOT EXISTS precios (\n",
        "    id INTEGER PRIMARY KEY,\n",
        "    principio_activo TEXT,\n",
        "    unidad_de_dispensacion TEXT,\n",
        "    concentracion TEXT,\n",
        "    unidad_base TEXT,\n",
        "    nombre_comercial TEXT,\n",
        "    fabricante TEXT,\n",
        "    precio_por_tableta REAL,\n",
        "    factoresprecio TEXT,\n",
        "    numerofactor_df1 INTEGER,\n",
        "    numerofactor_df15 INTEGER,\n",
        "    Expediente_INVIMA INTEGER,\n",
        "    medicamento TEXT,\n",
        "    canal TEXT,\n",
        "    numerofactor INTEGER\n",
        ")\n",
        "''')\n",
        "\n",
        "# Convertir el DataFrame 'df_cleaned' en una lista de tuplas\n",
        "# Convierte las filas del DataFrame limpio en tuplas para poder insertarlas en la base de datos.\n",
        "\n",
        "write_to_log(\"Convirtiendo el DataFrame 'df_cleaned' en una lista de tuplas para la inserción.\")\n",
        "df_tuples = [tuple(x) for x in df_cleaned.values]\n",
        "\n",
        "# Insertar los datos en la tabla 'precios'\n",
        "# Usamos 'executemany' para insertar todas las filas de una vez.\n",
        "\n",
        "write_to_log(\"Insertando los datos limpios en la tabla 'precios'.\")\n",
        "cursor.executemany('''\n",
        "INSERT INTO precios (principio_activo, unidad_de_dispensacion, concentracion,\n",
        "                     unidad_base, nombre_comercial, fabricante, precio_por_tableta,\n",
        "                     factoresprecio, numerofactor_df1,\n",
        "                     numerofactor_df15, Expediente_INVIMA, medicamento, canal, numerofactor)\n",
        "VALUES (?, ?, ?, ?, ?, ?, ?, ?, ?, ?, ?, ?, ?, ?)\n",
        "''', df_tuples)\n",
        "\n",
        "# Guardar los cambios y cerrar la conexión\n",
        "# Guardamos los cambios realizados en la base de datos y cerramos la conexión.\n",
        "\n",
        "write_to_log(\"Guardando los cambios en la base de datos y cerrando la conexión.\")\n",
        "conn.commit()\n",
        "conn.close()\n",
        "\n",
        "print(\"Datos cargados en la base de datos con éxito.\")\n",
        "\n"
      ]
    },
    {
      "cell_type": "markdown",
      "metadata": {
        "id": "9_9Dt6GKt1l2"
      },
      "source": [
        "En este bloque de código, nos conectamos a la base de datos SQLite **`medicamentos.db`** y obtenemos los primeros 5 registros completos de la tabla **`precios`**.\n",
        "\n",
        "1. **Conexión a la base de datos**:\n",
        "   - Usamos **`sqlite3.connect('medicamentos.db')`** para conectarnos a la base de datos **`medicamentos.db`**.\n",
        "   \n",
        "2. **Consulta SQL**:\n",
        "   - La consulta SQL **`SELECT * FROM precios LIMIT 5`** se utiliza para seleccionar los primeros 5 registros de la tabla **`precios`**.\n"
      ]
    },
    {
      "cell_type": "code",
      "execution_count": 53,
      "metadata": {
        "colab": {
          "base_uri": "https://localhost:8080/"
        },
        "id": "N9HQJ8C5ttlv",
        "outputId": "f1bbf0b7-898f-4cf2-e802-55e2df61839f"
      },
      "outputs": [
        {
          "name": "stdout",
          "output_type": "stream",
          "text": [
            "   id       principio_activo unidad_de_dispensacion  \\\n",
            "0   1               Abacavir                 Frasco   \n",
            "1   2               Abacavir                Tableta   \n",
            "2   3  Abacavir + Lamivudina                Tableta   \n",
            "3   4  Abacavir Y Lamivudina                Tableta   \n",
            "4   5  Abacavir Y Lamivudina                Tableta   \n",
            "\n",
            "                         concentracion unidad_base       nombre_comercial  \\\n",
            "0                         Abacavir 2 g          ml                 Abacar   \n",
            "1                      Abacavir 300 mg          mg               Abacavir   \n",
            "2  Lamivudina 300 mg + Abacavir 600 mg          mg                Diviral   \n",
            "3  Lamivudina 300 mg + Abacavir 600 mg          mg  Abacavir Y Lamivudina   \n",
            "4  Lamivudina 300 mg + Abacavir 600 mg          mg                 Abalam   \n",
            "\n",
            "    fabricante  precio_por_tableta factoresprecio  numerofactor_df1  \\\n",
            "0  Hetero Labs        41407.547170          Medio                 2   \n",
            "1      Legrand          696.244131          Medio                 2   \n",
            "2      Legrand         1317.120376          Medio                 2   \n",
            "3  Saluspharma         1121.855072           Bajo                 1   \n",
            "4  Hetero Labs         1318.833308          Medio                 2   \n",
            "\n",
            "   numerofactor_df15  Expediente_INVIMA  \\\n",
            "0                  2           20065664   \n",
            "1                  2           20028352   \n",
            "2                  2           19997604   \n",
            "3                  1           20085320   \n",
            "4                  2           20103720   \n",
            "\n",
            "                                         medicamento          canal  \\\n",
            "0  Abacar (Hetero Labs) - Frasco 240 ml - Cada 10...  Institucional   \n",
            "1  Abacavir (Legrand) - Cada Tableta contiene: Ab...  Institucional   \n",
            "2  Diviral (Legrand) - Cada Tableta contiene: Lam...  Institucional   \n",
            "3  Abacavir Y Lamivudina (Saluspharma) - Cada Tab...  Institucional   \n",
            "4  Abalam (Hetero Labs) - Cada Tableta contiene: ...  Institucional   \n",
            "\n",
            "   numerofactor  \n",
            "0             2  \n",
            "1             2  \n",
            "2             2  \n",
            "3             1  \n",
            "4             2  \n"
          ]
        }
      ],
      "source": [
        "# Conectar a la base de datos SQLite y obtener los primeros 5 registros completos\n",
        "# Este bloque de código se conecta a la base de datos SQLite y obtiene los primeros 5 registros de la tabla 'precios'.\n",
        "\n",
        "write_to_log(\"Conectando a la base de datos SQLite y obteniendo los primeros 5 registros de la tabla 'precios'.\")\n",
        "conn = sqlite3.connect('medicamentos.db')\n",
        "query = '''\n",
        "SELECT * FROM precios\n",
        "LIMIT 5\n",
        "'''\n",
        "\n",
        "# Ejecutar la consulta SQL y cargar los datos en un DataFrame\n",
        "df_first_5_records = pd.read_sql_query(query, conn)\n",
        "\n",
        "# Cerrar la conexión a la base de datos\n",
        "conn.close()\n",
        "\n",
        "# Mostrar el resultado\n",
        "print(df_first_5_records)\n"
      ]
    },
    {
      "cell_type": "markdown",
      "metadata": {
        "id": "49nFC2iG8WaP"
      },
      "source": [
        "###Analisis y visualizacion de los datos\n",
        "\n",
        "En este bloque de código, nos conectamos a la base de datos **`medicamentos.db`** y obtenemos el **precio promedio** de los medicamentos, agrupados por **`nombre_comercial`**. Posteriormente,\n",
        "mostramos los 10 medicamentos con los precios más altos.\n"
      ]
    },
    {
      "cell_type": "code",
      "execution_count": 54,
      "metadata": {
        "colab": {
          "base_uri": "https://localhost:8080/"
        },
        "id": "FHtPOU8P8ad2",
        "outputId": "13d6b723-afdb-4c8b-d9e0-595e3d92e862"
      },
      "outputs": [
        {
          "name": "stdout",
          "output_type": "stream",
          "text": [
            "           nombre_comercial  precio_promedio\n",
            "0                  Zebesten      43569.25346\n",
            "1                   Biovisc      43359.07336\n",
            "2  Doxorubicina Clorhidrato      43309.65137\n",
            "3                Budek Plus      43282.17219\n",
            "4                Lotinercan      43083.33333\n",
            "5               Dilozeld-Uf      43000.00000\n",
            "6                   Vosicaz      42981.48148\n",
            "7                    Leaxin      42896.79961\n",
            "8                    Daresp      42867.46988\n",
            "9                 Caverject      42830.43863\n"
          ]
        }
      ],
      "source": [
        "# Conectar a la base de datos SQLite y obtener el precio promedio de los primeros 10 medicamentos más caros\n",
        "# Este bloque de código se conecta a la base de datos SQLite y ejecuta una consulta para obtener el precio promedio por medicamento.\n",
        "\n",
        "write_to_log(\"Conectando a la base de datos SQLite y obteniendo el precio promedio de los medicamentos.\")\n",
        "conn = sqlite3.connect('medicamentos.db')\n",
        "query = '''\n",
        "SELECT nombre_comercial, AVG(precio_por_tableta) AS precio_promedio\n",
        "FROM precios\n",
        "GROUP BY nombre_comercial\n",
        "ORDER BY precio_promedio DESC\n",
        "LIMIT 10\n",
        "'''\n",
        "\n",
        "# Ejecutar la consulta SQL y cargar los datos en un DataFrame\n",
        "df_avg_price = pd.read_sql_query(query, conn)\n",
        "\n",
        "# Cerrar la conexión a la base de datos\n",
        "conn.close()\n",
        "\n",
        "# Mostrar el resultado\n",
        "print(df_avg_price)\n",
        "\n"
      ]
    },
    {
      "cell_type": "markdown",
      "metadata": {
        "id": "0UGelonf8eo3"
      },
      "source": [
        "En este bloque de código, nos conectamos a la base de datos **`medicamentos.db`** y obtenemos el **precio máximo** de cada **`nombre_comercial`**. Posteriormente, mostramos los 10 medicamentos con los precios más altos.\n"
      ]
    },
    {
      "cell_type": "code",
      "execution_count": 55,
      "metadata": {
        "colab": {
          "base_uri": "https://localhost:8080/"
        },
        "id": "Y3g81Oq08g_3",
        "outputId": "949e3bee-7bc6-47c4-e6f8-ac2cf9899d53"
      },
      "outputs": [
        {
          "name": "stdout",
          "output_type": "stream",
          "text": [
            "           nombre_comercial  precio_maximo\n",
            "0                  Zebesten    43569.25346\n",
            "1                     Cipro    43448.59957\n",
            "2                 Nordixate    43426.00000\n",
            "3                   Biovisc    43359.07336\n",
            "4  Doxorubicina Clorhidrato    43309.65137\n",
            "5               Duodecadron    43301.87247\n",
            "6                Budek Plus    43282.17219\n",
            "7                Ifosfamida    43148.00000\n",
            "8                  Metarsal    43085.52692\n",
            "9                Lotinercan    43083.33333\n"
          ]
        }
      ],
      "source": [
        "# Conectar a la base de datos SQLite y obtener el precio máximo de los primeros 10 medicamentos más caros\n",
        "# Este bloque de código se conecta a la base de datos SQLite y ejecuta una consulta para obtener el precio máximo por medicamento.\n",
        "\n",
        "write_to_log(\"Conectando a la base de datos SQLite y obteniendo el precio máximo de los medicamentos.\")\n",
        "conn = sqlite3.connect('medicamentos.db')\n",
        "query = '''\n",
        "SELECT nombre_comercial, MAX(precio_por_tableta) AS precio_maximo\n",
        "FROM precios\n",
        "GROUP BY nombre_comercial\n",
        "ORDER BY precio_maximo DESC\n",
        "LIMIT 10\n",
        "'''\n",
        "\n",
        "# Ejecutar la consulta SQL y cargar los datos en un DataFrame\n",
        "df_max_price = pd.read_sql_query(query, conn)\n",
        "\n",
        "# Cerrar la conexión a la base de datos\n",
        "conn.close()\n",
        "\n",
        "# Mostrar el resultado\n",
        "print(df_max_price)\n",
        "\n"
      ]
    },
    {
      "cell_type": "markdown",
      "metadata": {
        "id": "ju7vmPG08mxQ"
      },
      "source": [
        "En este bloque de código, nos conectamos a la base de datos **`medicamentos.db`** y obtenemos el **precio promedio** por **canal**. Posteriormente, mostramos los resultados ordenados por el precio promedio de mayor a menor.\n"
      ]
    },
    {
      "cell_type": "code",
      "execution_count": 56,
      "metadata": {
        "colab": {
          "base_uri": "https://localhost:8080/"
        },
        "id": "pfPSjtyT8nj-",
        "outputId": "e4fed16d-9417-42db-fb2f-fe5bd3f9c7a0"
      },
      "outputs": [
        {
          "name": "stdout",
          "output_type": "stream",
          "text": [
            "           canal  precio_promedio\n",
            "0      Comercial      6926.243028\n",
            "1  Institucional      5792.794659\n"
          ]
        }
      ],
      "source": [
        "# Conectar a la base de datos SQLite y obtener el precio promedio por canal\n",
        "# Este bloque de código se conecta a la base de datos SQLite y ejecuta una consulta para obtener el precio promedio por canal.\n",
        "\n",
        "write_to_log(\"Conectando a la base de datos SQLite y obteniendo el precio promedio por canal.\")\n",
        "conn = sqlite3.connect('medicamentos.db')\n",
        "query = '''\n",
        "SELECT canal, AVG(precio_por_tableta) AS precio_promedio\n",
        "FROM precios\n",
        "GROUP BY canal\n",
        "ORDER BY precio_promedio DESC\n",
        "'''\n",
        "\n",
        "# Ejecutar la consulta SQL y cargar los datos en un DataFrame\n",
        "df_avg_price_canal = pd.read_sql_query(query, conn)\n",
        "\n",
        "# Cerrar la conexión a la base de datos\n",
        "conn.close()\n",
        "\n",
        "# Mostrar el resultado\n",
        "print(df_avg_price_canal)\n",
        "\n"
      ]
    },
    {
      "cell_type": "markdown",
      "metadata": {
        "id": "d5G-dd2J8tL-"
      },
      "source": [
        "En este bloque de código, nos conectamos a la base de datos **`medicamentos.db`** y obtenemos los precios de los medicamentos almacenados en la columna **`precio_por_tableta`** de la tabla **`precios`**. Luego, visualizamos un **histograma** para observar la distribución de los precios.\n"
      ]
    },
    {
      "cell_type": "code",
      "execution_count": 57,
      "metadata": {
        "colab": {
          "base_uri": "https://localhost:8080/",
          "height": 564
        },
        "id": "CC2y0z1W8p--",
        "outputId": "f96410b8-6dfe-4cda-fb6d-3e68db3f89af"
      },
      "outputs": [
        {
          "data": {
            "image/png": "[encoded data removed]",
            "text/plain": [
              "<Figure size 1000x600 with 1 Axes>"
            ]
          },
          "metadata": {},
          "output_type": "display_data"
        }
      ],
      "source": [
        "import matplotlib.pyplot as plt\n",
        "\n",
        "# Conectar a SQLite y obtener los datos directamente como un DataFrame\n",
        "# Este bloque de código se conecta a la base de datos SQLite y obtiene los precios de los medicamentos.\n",
        "\n",
        "write_to_log(\"Conectando a la base de datos SQLite y obteniendo los precios de los medicamentos.\")\n",
        "conn = sqlite3.connect('medicamentos.db')\n",
        "df = pd.read_sql_query('SELECT precio_por_tableta FROM precios', conn)\n",
        "conn.close()\n",
        "\n",
        "# Visualización del histograma de precios\n",
        "# Este bloque de código crea un histograma para visualizar la distribución de los precios de los medicamentos.\n",
        "\n",
        "write_to_log(\"Generando el histograma de los precios de medicamentos.\")\n",
        "df['precio_por_tableta'].plot(kind='hist', bins=50, color='skyblue', edgecolor='black', figsize=(10, 6))\n",
        "plt.title('Distribución de Precios de Medicamentos')\n",
        "plt.xlabel('Precio por Tableta')\n",
        "plt.ylabel('Frecuencia')\n",
        "plt.show()\n",
        "\n"
      ]
    },
    {
      "cell_type": "markdown",
      "metadata": {
        "id": "dr0XQ3V28y5H"
      },
      "source": [
        "En este bloque de código, generamos un **gráfico de barras** para visualizar el **precio promedio** por **canal** de distribucion. El gráfico muestra cómo se distribuyen los precios entre los diferentes canales de venta (por ejemplo, institucional vs. comercial).\n"
      ]
    },
    {
      "cell_type": "code",
      "execution_count": null,
      "metadata": {
        "colab": {
          "base_uri": "https://localhost:8080/",
          "height": 584
        },
        "id": "W2QgaC9A82X-",
        "outputId": "2869266c-ad83-414a-bc26-2d578e74d95b"
      },
      "outputs": [
        {
          "data": {
            "image/png": "[encoded data removed]",
            "text/plain": [
              "<Figure size 1000x600 with 1 Axes>"
            ]
          },
          "metadata": {},
          "output_type": "display_data"
        }
      ],
      "source": [
        "# Visualización del gráfico de barras de precio promedio por canal\n",
        "# Este bloque de código genera un gráfico de barras para mostrar el precio promedio por canal de distribucion.\n",
        "\n",
        "write_to_log(\"Generando el gráfico de barras del precio promedio por canal.\")\n",
        "df_avg_price_canal.plot(kind='bar', x='canal', y='precio_promedio', color='lightcoral', figsize=(10, 6))\n",
        "\n",
        "# Configuración del gráfico\n",
        "plt.title('Precio Promedio por Canal')  # Título del gráfico\n",
        "plt.xlabel('Canal')  # Etiqueta del eje X\n",
        "plt.ylabel('Precio Promedio')  # Etiqueta del eje Y\n",
        "plt.xticks(rotation=0)  # Alineación de las etiquetas del eje X\n",
        "plt.show()  # Mostrar el gráfico\n",
        "\n"
      ]
    }
  ],
  "metadata": {
    "colab": {
      "provenance": []
    },
    "kernelspec": {
      "display_name": "Python 3",
      "name": "python3"
    },
    "language_info": {
      "name": "python"
    }
  },
  "nbformat": 4,
  "nbformat_minor": 0
}
